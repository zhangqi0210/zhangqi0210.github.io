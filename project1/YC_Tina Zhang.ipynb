{
 "cells": [
  {
   "cell_type": "markdown",
   "metadata": {},
   "source": [
    "# Yellow Cab Case"
   ]
  },
  {
   "cell_type": "markdown",
   "metadata": {},
   "source": [
    "## Instructions\n",
    "We created this template to help you complete the _Yellow Cab_ case. Use this template to complete the Python portion of the case. In the template, the heading numbers correspond to the heading numbers in the case document."
   ]
  },
  {
   "cell_type": "markdown",
   "metadata": {},
   "source": [
    "## 2. Load Relevant Packages and Dependencies"
   ]
  },
  {
   "cell_type": "markdown",
   "metadata": {},
   "source": [
    "There's a new document titled _Installing and Updating Packages for Yellow Cab Case.pdf_. You need to follow the steps in that document, but you only need to do that stuff once.  \n",
    "1. Get that document. \n",
    "2. Close Jupyter and/or JupyterLab.\n",
    "3. Reboot your computer.\n",
    "4. Follow the instructions in that document."
   ]
  },
  {
   "cell_type": "markdown",
   "metadata": {},
   "source": [
    "### 2.1. Imports\n",
    "Make sure you have updated and installed the packages above before running the following cells."
   ]
  },
  {
   "cell_type": "code",
   "execution_count": 1,
   "metadata": {},
   "outputs": [
    {
     "data": {
      "text/html": [
       "\n",
       "    <div class=\"bk-root\">\n",
       "        <a href=\"https://bokeh.pydata.org\" target=\"_blank\" class=\"bk-logo bk-logo-small bk-logo-notebook\"></a>\n",
       "        <span id=\"1001\">Loading BokehJS ...</span>\n",
       "    </div>"
      ]
     },
     "metadata": {},
     "output_type": "display_data"
    },
    {
     "data": {
      "application/javascript": [
       "\n",
       "(function(root) {\n",
       "  function now() {\n",
       "    return new Date();\n",
       "  }\n",
       "\n",
       "  var force = true;\n",
       "\n",
       "  if (typeof (root._bokeh_onload_callbacks) === \"undefined\" || force === true) {\n",
       "    root._bokeh_onload_callbacks = [];\n",
       "    root._bokeh_is_loading = undefined;\n",
       "  }\n",
       "\n",
       "  var JS_MIME_TYPE = 'application/javascript';\n",
       "  var HTML_MIME_TYPE = 'text/html';\n",
       "  var EXEC_MIME_TYPE = 'application/vnd.bokehjs_exec.v0+json';\n",
       "  var CLASS_NAME = 'output_bokeh rendered_html';\n",
       "\n",
       "  /**\n",
       "   * Render data to the DOM node\n",
       "   */\n",
       "  function render(props, node) {\n",
       "    var script = document.createElement(\"script\");\n",
       "    node.appendChild(script);\n",
       "  }\n",
       "\n",
       "  /**\n",
       "   * Handle when an output is cleared or removed\n",
       "   */\n",
       "  function handleClearOutput(event, handle) {\n",
       "    var cell = handle.cell;\n",
       "\n",
       "    var id = cell.output_area._bokeh_element_id;\n",
       "    var server_id = cell.output_area._bokeh_server_id;\n",
       "    // Clean up Bokeh references\n",
       "    if (id != null && id in Bokeh.index) {\n",
       "      Bokeh.index[id].model.document.clear();\n",
       "      delete Bokeh.index[id];\n",
       "    }\n",
       "\n",
       "    if (server_id !== undefined) {\n",
       "      // Clean up Bokeh references\n",
       "      var cmd = \"from bokeh.io.state import curstate; print(curstate().uuid_to_server['\" + server_id + \"'].get_sessions()[0].document.roots[0]._id)\";\n",
       "      cell.notebook.kernel.execute(cmd, {\n",
       "        iopub: {\n",
       "          output: function(msg) {\n",
       "            var id = msg.content.text.trim();\n",
       "            if (id in Bokeh.index) {\n",
       "              Bokeh.index[id].model.document.clear();\n",
       "              delete Bokeh.index[id];\n",
       "            }\n",
       "          }\n",
       "        }\n",
       "      });\n",
       "      // Destroy server and session\n",
       "      var cmd = \"import bokeh.io.notebook as ion; ion.destroy_server('\" + server_id + \"')\";\n",
       "      cell.notebook.kernel.execute(cmd);\n",
       "    }\n",
       "  }\n",
       "\n",
       "  /**\n",
       "   * Handle when a new output is added\n",
       "   */\n",
       "  function handleAddOutput(event, handle) {\n",
       "    var output_area = handle.output_area;\n",
       "    var output = handle.output;\n",
       "\n",
       "    // limit handleAddOutput to display_data with EXEC_MIME_TYPE content only\n",
       "    if ((output.output_type != \"display_data\") || (!output.data.hasOwnProperty(EXEC_MIME_TYPE))) {\n",
       "      return\n",
       "    }\n",
       "\n",
       "    var toinsert = output_area.element.find(\".\" + CLASS_NAME.split(' ')[0]);\n",
       "\n",
       "    if (output.metadata[EXEC_MIME_TYPE][\"id\"] !== undefined) {\n",
       "      toinsert[toinsert.length - 1].firstChild.textContent = output.data[JS_MIME_TYPE];\n",
       "      // store reference to embed id on output_area\n",
       "      output_area._bokeh_element_id = output.metadata[EXEC_MIME_TYPE][\"id\"];\n",
       "    }\n",
       "    if (output.metadata[EXEC_MIME_TYPE][\"server_id\"] !== undefined) {\n",
       "      var bk_div = document.createElement(\"div\");\n",
       "      bk_div.innerHTML = output.data[HTML_MIME_TYPE];\n",
       "      var script_attrs = bk_div.children[0].attributes;\n",
       "      for (var i = 0; i < script_attrs.length; i++) {\n",
       "        toinsert[toinsert.length - 1].firstChild.setAttribute(script_attrs[i].name, script_attrs[i].value);\n",
       "      }\n",
       "      // store reference to server id on output_area\n",
       "      output_area._bokeh_server_id = output.metadata[EXEC_MIME_TYPE][\"server_id\"];\n",
       "    }\n",
       "  }\n",
       "\n",
       "  function register_renderer(events, OutputArea) {\n",
       "\n",
       "    function append_mime(data, metadata, element) {\n",
       "      // create a DOM node to render to\n",
       "      var toinsert = this.create_output_subarea(\n",
       "        metadata,\n",
       "        CLASS_NAME,\n",
       "        EXEC_MIME_TYPE\n",
       "      );\n",
       "      this.keyboard_manager.register_events(toinsert);\n",
       "      // Render to node\n",
       "      var props = {data: data, metadata: metadata[EXEC_MIME_TYPE]};\n",
       "      render(props, toinsert[toinsert.length - 1]);\n",
       "      element.append(toinsert);\n",
       "      return toinsert\n",
       "    }\n",
       "\n",
       "    /* Handle when an output is cleared or removed */\n",
       "    events.on('clear_output.CodeCell', handleClearOutput);\n",
       "    events.on('delete.Cell', handleClearOutput);\n",
       "\n",
       "    /* Handle when a new output is added */\n",
       "    events.on('output_added.OutputArea', handleAddOutput);\n",
       "\n",
       "    /**\n",
       "     * Register the mime type and append_mime function with output_area\n",
       "     */\n",
       "    OutputArea.prototype.register_mime_type(EXEC_MIME_TYPE, append_mime, {\n",
       "      /* Is output safe? */\n",
       "      safe: true,\n",
       "      /* Index of renderer in `output_area.display_order` */\n",
       "      index: 0\n",
       "    });\n",
       "  }\n",
       "\n",
       "  // register the mime type if in Jupyter Notebook environment and previously unregistered\n",
       "  if (root.Jupyter !== undefined) {\n",
       "    var events = require('base/js/events');\n",
       "    var OutputArea = require('notebook/js/outputarea').OutputArea;\n",
       "\n",
       "    if (OutputArea.prototype.mime_types().indexOf(EXEC_MIME_TYPE) == -1) {\n",
       "      register_renderer(events, OutputArea);\n",
       "    }\n",
       "  }\n",
       "\n",
       "  \n",
       "  if (typeof (root._bokeh_timeout) === \"undefined\" || force === true) {\n",
       "    root._bokeh_timeout = Date.now() + 5000;\n",
       "    root._bokeh_failed_load = false;\n",
       "  }\n",
       "\n",
       "  var NB_LOAD_WARNING = {'data': {'text/html':\n",
       "     \"<div style='background-color: #fdd'>\\n\"+\n",
       "     \"<p>\\n\"+\n",
       "     \"BokehJS does not appear to have successfully loaded. If loading BokehJS from CDN, this \\n\"+\n",
       "     \"may be due to a slow or bad network connection. Possible fixes:\\n\"+\n",
       "     \"</p>\\n\"+\n",
       "     \"<ul>\\n\"+\n",
       "     \"<li>re-rerun `output_notebook()` to attempt to load from CDN again, or</li>\\n\"+\n",
       "     \"<li>use INLINE resources instead, as so:</li>\\n\"+\n",
       "     \"</ul>\\n\"+\n",
       "     \"<code>\\n\"+\n",
       "     \"from bokeh.resources import INLINE\\n\"+\n",
       "     \"output_notebook(resources=INLINE)\\n\"+\n",
       "     \"</code>\\n\"+\n",
       "     \"</div>\"}};\n",
       "\n",
       "  function display_loaded() {\n",
       "    var el = document.getElementById(\"1001\");\n",
       "    if (el != null) {\n",
       "      el.textContent = \"BokehJS is loading...\";\n",
       "    }\n",
       "    if (root.Bokeh !== undefined) {\n",
       "      if (el != null) {\n",
       "        el.textContent = \"BokehJS \" + root.Bokeh.version + \" successfully loaded.\";\n",
       "      }\n",
       "    } else if (Date.now() < root._bokeh_timeout) {\n",
       "      setTimeout(display_loaded, 100)\n",
       "    }\n",
       "  }\n",
       "\n",
       "\n",
       "  function run_callbacks() {\n",
       "    try {\n",
       "      root._bokeh_onload_callbacks.forEach(function(callback) { callback() });\n",
       "    }\n",
       "    finally {\n",
       "      delete root._bokeh_onload_callbacks\n",
       "    }\n",
       "    console.info(\"Bokeh: all callbacks have finished\");\n",
       "  }\n",
       "\n",
       "  function load_libs(js_urls, callback) {\n",
       "    root._bokeh_onload_callbacks.push(callback);\n",
       "    if (root._bokeh_is_loading > 0) {\n",
       "      console.log(\"Bokeh: BokehJS is being loaded, scheduling callback at\", now());\n",
       "      return null;\n",
       "    }\n",
       "    if (js_urls == null || js_urls.length === 0) {\n",
       "      run_callbacks();\n",
       "      return null;\n",
       "    }\n",
       "    console.log(\"Bokeh: BokehJS not loaded, scheduling load and callback at\", now());\n",
       "    root._bokeh_is_loading = js_urls.length;\n",
       "    for (var i = 0; i < js_urls.length; i++) {\n",
       "      var url = js_urls[i];\n",
       "      var s = document.createElement('script');\n",
       "      s.src = url;\n",
       "      s.async = false;\n",
       "      s.onreadystatechange = s.onload = function() {\n",
       "        root._bokeh_is_loading--;\n",
       "        if (root._bokeh_is_loading === 0) {\n",
       "          console.log(\"Bokeh: all BokehJS libraries loaded\");\n",
       "          run_callbacks()\n",
       "        }\n",
       "      };\n",
       "      s.onerror = function() {\n",
       "        console.warn(\"failed to load library \" + url);\n",
       "      };\n",
       "      console.log(\"Bokeh: injecting script tag for BokehJS library: \", url);\n",
       "      document.getElementsByTagName(\"head\")[0].appendChild(s);\n",
       "    }\n",
       "  };var element = document.getElementById(\"1001\");\n",
       "  if (element == null) {\n",
       "    console.log(\"Bokeh: ERROR: autoload.js configured with elementid '1001' but no matching script tag was found. \")\n",
       "    return false;\n",
       "  }\n",
       "\n",
       "  var js_urls = [\"https://cdn.pydata.org/bokeh/release/bokeh-1.0.4.min.js\", \"https://cdn.pydata.org/bokeh/release/bokeh-widgets-1.0.4.min.js\", \"https://cdn.pydata.org/bokeh/release/bokeh-tables-1.0.4.min.js\", \"https://cdn.pydata.org/bokeh/release/bokeh-gl-1.0.4.min.js\"];\n",
       "\n",
       "  var inline_js = [\n",
       "    function(Bokeh) {\n",
       "      Bokeh.set_log_level(\"info\");\n",
       "    },\n",
       "    \n",
       "    function(Bokeh) {\n",
       "      \n",
       "    },\n",
       "    function(Bokeh) {\n",
       "      console.log(\"Bokeh: injecting CSS: https://cdn.pydata.org/bokeh/release/bokeh-1.0.4.min.css\");\n",
       "      Bokeh.embed.inject_css(\"https://cdn.pydata.org/bokeh/release/bokeh-1.0.4.min.css\");\n",
       "      console.log(\"Bokeh: injecting CSS: https://cdn.pydata.org/bokeh/release/bokeh-widgets-1.0.4.min.css\");\n",
       "      Bokeh.embed.inject_css(\"https://cdn.pydata.org/bokeh/release/bokeh-widgets-1.0.4.min.css\");\n",
       "      console.log(\"Bokeh: injecting CSS: https://cdn.pydata.org/bokeh/release/bokeh-tables-1.0.4.min.css\");\n",
       "      Bokeh.embed.inject_css(\"https://cdn.pydata.org/bokeh/release/bokeh-tables-1.0.4.min.css\");\n",
       "    }\n",
       "  ];\n",
       "\n",
       "  function run_inline_js() {\n",
       "    \n",
       "    if ((root.Bokeh !== undefined) || (force === true)) {\n",
       "      for (var i = 0; i < inline_js.length; i++) {\n",
       "        inline_js[i].call(root, root.Bokeh);\n",
       "      }if (force === true) {\n",
       "        display_loaded();\n",
       "      }} else if (Date.now() < root._bokeh_timeout) {\n",
       "      setTimeout(run_inline_js, 100);\n",
       "    } else if (!root._bokeh_failed_load) {\n",
       "      console.log(\"Bokeh: BokehJS failed to load within specified timeout.\");\n",
       "      root._bokeh_failed_load = true;\n",
       "    } else if (force !== true) {\n",
       "      var cell = $(document.getElementById(\"1001\")).parents('.cell').data().cell;\n",
       "      cell.output_area.append_execute_result(NB_LOAD_WARNING)\n",
       "    }\n",
       "\n",
       "  }\n",
       "\n",
       "  if (root._bokeh_is_loading === 0) {\n",
       "    console.log(\"Bokeh: BokehJS loaded, going straight to plotting\");\n",
       "    run_inline_js();\n",
       "  } else {\n",
       "    load_libs(js_urls, function() {\n",
       "      console.log(\"Bokeh: BokehJS plotting callback run at\", now());\n",
       "      run_inline_js();\n",
       "    });\n",
       "  }\n",
       "}(window));"
      ],
      "application/vnd.bokehjs_load.v0+json": "\n(function(root) {\n  function now() {\n    return new Date();\n  }\n\n  var force = true;\n\n  if (typeof (root._bokeh_onload_callbacks) === \"undefined\" || force === true) {\n    root._bokeh_onload_callbacks = [];\n    root._bokeh_is_loading = undefined;\n  }\n\n  \n\n  \n  if (typeof (root._bokeh_timeout) === \"undefined\" || force === true) {\n    root._bokeh_timeout = Date.now() + 5000;\n    root._bokeh_failed_load = false;\n  }\n\n  var NB_LOAD_WARNING = {'data': {'text/html':\n     \"<div style='background-color: #fdd'>\\n\"+\n     \"<p>\\n\"+\n     \"BokehJS does not appear to have successfully loaded. If loading BokehJS from CDN, this \\n\"+\n     \"may be due to a slow or bad network connection. Possible fixes:\\n\"+\n     \"</p>\\n\"+\n     \"<ul>\\n\"+\n     \"<li>re-rerun `output_notebook()` to attempt to load from CDN again, or</li>\\n\"+\n     \"<li>use INLINE resources instead, as so:</li>\\n\"+\n     \"</ul>\\n\"+\n     \"<code>\\n\"+\n     \"from bokeh.resources import INLINE\\n\"+\n     \"output_notebook(resources=INLINE)\\n\"+\n     \"</code>\\n\"+\n     \"</div>\"}};\n\n  function display_loaded() {\n    var el = document.getElementById(\"1001\");\n    if (el != null) {\n      el.textContent = \"BokehJS is loading...\";\n    }\n    if (root.Bokeh !== undefined) {\n      if (el != null) {\n        el.textContent = \"BokehJS \" + root.Bokeh.version + \" successfully loaded.\";\n      }\n    } else if (Date.now() < root._bokeh_timeout) {\n      setTimeout(display_loaded, 100)\n    }\n  }\n\n\n  function run_callbacks() {\n    try {\n      root._bokeh_onload_callbacks.forEach(function(callback) { callback() });\n    }\n    finally {\n      delete root._bokeh_onload_callbacks\n    }\n    console.info(\"Bokeh: all callbacks have finished\");\n  }\n\n  function load_libs(js_urls, callback) {\n    root._bokeh_onload_callbacks.push(callback);\n    if (root._bokeh_is_loading > 0) {\n      console.log(\"Bokeh: BokehJS is being loaded, scheduling callback at\", now());\n      return null;\n    }\n    if (js_urls == null || js_urls.length === 0) {\n      run_callbacks();\n      return null;\n    }\n    console.log(\"Bokeh: BokehJS not loaded, scheduling load and callback at\", now());\n    root._bokeh_is_loading = js_urls.length;\n    for (var i = 0; i < js_urls.length; i++) {\n      var url = js_urls[i];\n      var s = document.createElement('script');\n      s.src = url;\n      s.async = false;\n      s.onreadystatechange = s.onload = function() {\n        root._bokeh_is_loading--;\n        if (root._bokeh_is_loading === 0) {\n          console.log(\"Bokeh: all BokehJS libraries loaded\");\n          run_callbacks()\n        }\n      };\n      s.onerror = function() {\n        console.warn(\"failed to load library \" + url);\n      };\n      console.log(\"Bokeh: injecting script tag for BokehJS library: \", url);\n      document.getElementsByTagName(\"head\")[0].appendChild(s);\n    }\n  };var element = document.getElementById(\"1001\");\n  if (element == null) {\n    console.log(\"Bokeh: ERROR: autoload.js configured with elementid '1001' but no matching script tag was found. \")\n    return false;\n  }\n\n  var js_urls = [\"https://cdn.pydata.org/bokeh/release/bokeh-1.0.4.min.js\", \"https://cdn.pydata.org/bokeh/release/bokeh-widgets-1.0.4.min.js\", \"https://cdn.pydata.org/bokeh/release/bokeh-tables-1.0.4.min.js\", \"https://cdn.pydata.org/bokeh/release/bokeh-gl-1.0.4.min.js\"];\n\n  var inline_js = [\n    function(Bokeh) {\n      Bokeh.set_log_level(\"info\");\n    },\n    \n    function(Bokeh) {\n      \n    },\n    function(Bokeh) {\n      console.log(\"Bokeh: injecting CSS: https://cdn.pydata.org/bokeh/release/bokeh-1.0.4.min.css\");\n      Bokeh.embed.inject_css(\"https://cdn.pydata.org/bokeh/release/bokeh-1.0.4.min.css\");\n      console.log(\"Bokeh: injecting CSS: https://cdn.pydata.org/bokeh/release/bokeh-widgets-1.0.4.min.css\");\n      Bokeh.embed.inject_css(\"https://cdn.pydata.org/bokeh/release/bokeh-widgets-1.0.4.min.css\");\n      console.log(\"Bokeh: injecting CSS: https://cdn.pydata.org/bokeh/release/bokeh-tables-1.0.4.min.css\");\n      Bokeh.embed.inject_css(\"https://cdn.pydata.org/bokeh/release/bokeh-tables-1.0.4.min.css\");\n    }\n  ];\n\n  function run_inline_js() {\n    \n    if ((root.Bokeh !== undefined) || (force === true)) {\n      for (var i = 0; i < inline_js.length; i++) {\n        inline_js[i].call(root, root.Bokeh);\n      }if (force === true) {\n        display_loaded();\n      }} else if (Date.now() < root._bokeh_timeout) {\n      setTimeout(run_inline_js, 100);\n    } else if (!root._bokeh_failed_load) {\n      console.log(\"Bokeh: BokehJS failed to load within specified timeout.\");\n      root._bokeh_failed_load = true;\n    } else if (force !== true) {\n      var cell = $(document.getElementById(\"1001\")).parents('.cell').data().cell;\n      cell.output_area.append_execute_result(NB_LOAD_WARNING)\n    }\n\n  }\n\n  if (root._bokeh_is_loading === 0) {\n    console.log(\"Bokeh: BokehJS loaded, going straight to plotting\");\n    run_inline_js();\n  } else {\n    load_libs(js_urls, function() {\n      console.log(\"Bokeh: BokehJS plotting callback run at\", now());\n      run_inline_js();\n    });\n  }\n}(window));"
     },
     "metadata": {},
     "output_type": "display_data"
    }
   ],
   "source": [
    "import pandas as pd \n",
    "import numpy as np \n",
    "\n",
    "# Import matplotlib and make sure it outputs plots to your notebook\n",
    "%matplotlib inline \n",
    "import matplotlib.pyplot as plt\n",
    "\n",
    "# Import seaborn and set the style\n",
    "import seaborn as sns\n",
    "sns.set(color_codes=True)\n",
    "sns.set_style('darkgrid')\n",
    "\n",
    "# The bokeh and set it up to output plots to your notebook\n",
    "from bokeh.plotting import figure, show\n",
    "from bokeh.io import output_notebook\n",
    "output_notebook()\n",
    "\n",
    "# Get some other useful bokeh features\n",
    "from bokeh.models import ColumnDataSource\n",
    "from bokeh.models import HoverTool"
   ]
  },
  {
   "cell_type": "markdown",
   "metadata": {},
   "source": [
    "## 3. Load and Look at the Data"
   ]
  },
  {
   "cell_type": "markdown",
   "metadata": {},
   "source": [
    "Load the data in the following cell:"
   ]
  },
  {
   "cell_type": "code",
   "execution_count": 2,
   "metadata": {},
   "outputs": [
    {
     "data": {
      "text/html": [
       "<div>\n",
       "<style scoped>\n",
       "    .dataframe tbody tr th:only-of-type {\n",
       "        vertical-align: middle;\n",
       "    }\n",
       "\n",
       "    .dataframe tbody tr th {\n",
       "        vertical-align: top;\n",
       "    }\n",
       "\n",
       "    .dataframe thead th {\n",
       "        text-align: right;\n",
       "    }\n",
       "</style>\n",
       "<table border=\"1\" class=\"dataframe\">\n",
       "  <thead>\n",
       "    <tr style=\"text-align: right;\">\n",
       "      <th></th>\n",
       "      <th>company</th>\n",
       "      <th>dropoff_census_tract</th>\n",
       "      <th>dropoff_centroid_latitude</th>\n",
       "      <th>dropoff_centroid_location</th>\n",
       "      <th>dropoff_centroid_longitude</th>\n",
       "      <th>dropoff_community_area</th>\n",
       "      <th>extras</th>\n",
       "      <th>fare</th>\n",
       "      <th>payment_type</th>\n",
       "      <th>pickup_census_tract</th>\n",
       "      <th>...</th>\n",
       "      <th>pickup_community_area</th>\n",
       "      <th>taxi_id</th>\n",
       "      <th>tips</th>\n",
       "      <th>tolls</th>\n",
       "      <th>trip_end_timestamp</th>\n",
       "      <th>trip_id</th>\n",
       "      <th>trip_miles</th>\n",
       "      <th>trip_seconds</th>\n",
       "      <th>trip_start_timestamp</th>\n",
       "      <th>trip_total</th>\n",
       "    </tr>\n",
       "  </thead>\n",
       "  <tbody>\n",
       "    <tr>\n",
       "      <th>1255227</th>\n",
       "      <td>NaN</td>\n",
       "      <td>NaN</td>\n",
       "      <td>41.922686</td>\n",
       "      <td>{'type': 'Point', 'coordinates': [-87.64948872...</td>\n",
       "      <td>-87.649489</td>\n",
       "      <td>7.0</td>\n",
       "      <td>1.0</td>\n",
       "      <td>12.25</td>\n",
       "      <td>Cash</td>\n",
       "      <td>NaN</td>\n",
       "      <td>...</td>\n",
       "      <td>8.0</td>\n",
       "      <td>d5aba5063677865e59e8065941035b88b25e58fc949fc5...</td>\n",
       "      <td>0.00</td>\n",
       "      <td>0.0</td>\n",
       "      <td>2015-12-23T22:15:00.000</td>\n",
       "      <td>12d36b3be9d6e61c22c8341bb81f1d8516d2611e</td>\n",
       "      <td>4.4</td>\n",
       "      <td>660.0</td>\n",
       "      <td>2015-12-23T22:00:00.000</td>\n",
       "      <td>13.25</td>\n",
       "    </tr>\n",
       "    <tr>\n",
       "      <th>361512</th>\n",
       "      <td>NaN</td>\n",
       "      <td>1.703108e+10</td>\n",
       "      <td>41.892042</td>\n",
       "      <td>{'type': 'Point', 'coordinates': [-87.63186394...</td>\n",
       "      <td>-87.631864</td>\n",
       "      <td>8.0</td>\n",
       "      <td>1.0</td>\n",
       "      <td>4.45</td>\n",
       "      <td>Credit Card</td>\n",
       "      <td>1.703108e+10</td>\n",
       "      <td>...</td>\n",
       "      <td>8.0</td>\n",
       "      <td>f0b96329a7e3906bb2e11b8af456f130f0ae9b2b57643e...</td>\n",
       "      <td>2.00</td>\n",
       "      <td>0.0</td>\n",
       "      <td>2015-06-24T20:00:00.000</td>\n",
       "      <td>10677afb11db1800ba38cf2bbe3e9668989e405e</td>\n",
       "      <td>0.4</td>\n",
       "      <td>240.0</td>\n",
       "      <td>2015-06-24T20:00:00.000</td>\n",
       "      <td>7.45</td>\n",
       "    </tr>\n",
       "    <tr>\n",
       "      <th>1178428</th>\n",
       "      <td>NaN</td>\n",
       "      <td>1.703108e+10</td>\n",
       "      <td>41.891972</td>\n",
       "      <td>{'type': 'Point', 'coordinates': [-87.61294541...</td>\n",
       "      <td>-87.612945</td>\n",
       "      <td>8.0</td>\n",
       "      <td>1.0</td>\n",
       "      <td>10.05</td>\n",
       "      <td>Cash</td>\n",
       "      <td>1.703184e+10</td>\n",
       "      <td>...</td>\n",
       "      <td>32.0</td>\n",
       "      <td>e8b30fe3cdcf458994b6943ba607e06f31b92202cab6b7...</td>\n",
       "      <td>0.00</td>\n",
       "      <td>0.0</td>\n",
       "      <td>2013-07-13T13:15:00.000</td>\n",
       "      <td>129e43c65ba9465eb16faa1b43b590ed39fc4b70</td>\n",
       "      <td>2.0</td>\n",
       "      <td>960.0</td>\n",
       "      <td>2013-07-13T13:00:00.000</td>\n",
       "      <td>11.05</td>\n",
       "    </tr>\n",
       "    <tr>\n",
       "      <th>859197</th>\n",
       "      <td>Choice Taxi Association</td>\n",
       "      <td>1.703108e+10</td>\n",
       "      <td>41.892042</td>\n",
       "      <td>{'type': 'Point', 'coordinates': [-87.63186394...</td>\n",
       "      <td>-87.631864</td>\n",
       "      <td>8.0</td>\n",
       "      <td>0.0</td>\n",
       "      <td>5.05</td>\n",
       "      <td>Cash</td>\n",
       "      <td>1.703184e+10</td>\n",
       "      <td>...</td>\n",
       "      <td>32.0</td>\n",
       "      <td>c92ffc47a21e745772199e454f7749ca499407d0079a94...</td>\n",
       "      <td>0.00</td>\n",
       "      <td>0.0</td>\n",
       "      <td>2014-06-11T22:15:00.000</td>\n",
       "      <td>11c0bd6ad652652e2f0e388c51a64b1726c587f4</td>\n",
       "      <td>0.8</td>\n",
       "      <td>240.0</td>\n",
       "      <td>2014-06-11T22:15:00.000</td>\n",
       "      <td>5.05</td>\n",
       "    </tr>\n",
       "    <tr>\n",
       "      <th>449996</th>\n",
       "      <td>Taxi Affiliation Services</td>\n",
       "      <td>1.703184e+10</td>\n",
       "      <td>41.880994</td>\n",
       "      <td>{'type': 'Point', 'coordinates': [-87.63274648...</td>\n",
       "      <td>-87.632746</td>\n",
       "      <td>32.0</td>\n",
       "      <td>0.0</td>\n",
       "      <td>6.85</td>\n",
       "      <td>Cash</td>\n",
       "      <td>1.703184e+10</td>\n",
       "      <td>...</td>\n",
       "      <td>32.0</td>\n",
       "      <td>a4e38923fa3ca8f2e4b1f0497275f97a199cd4f35a2dea...</td>\n",
       "      <td>0.00</td>\n",
       "      <td>0.0</td>\n",
       "      <td>2014-03-10T19:00:00.000</td>\n",
       "      <td>10a4d7ac3537369bb27d5ea40c93d1d78b6fe307</td>\n",
       "      <td>0.0</td>\n",
       "      <td>600.0</td>\n",
       "      <td>2014-03-10T19:00:00.000</td>\n",
       "      <td>6.85</td>\n",
       "    </tr>\n",
       "    <tr>\n",
       "      <th>1271946</th>\n",
       "      <td>Taxi Affiliation Services</td>\n",
       "      <td>NaN</td>\n",
       "      <td>41.901207</td>\n",
       "      <td>{'type': 'Point', 'coordinates': [-87.67635598...</td>\n",
       "      <td>-87.676356</td>\n",
       "      <td>24.0</td>\n",
       "      <td>0.0</td>\n",
       "      <td>9.65</td>\n",
       "      <td>Cash</td>\n",
       "      <td>NaN</td>\n",
       "      <td>...</td>\n",
       "      <td>8.0</td>\n",
       "      <td>300d94fbea035e07d9e812a32051950a7ad66f7de3a3af...</td>\n",
       "      <td>0.00</td>\n",
       "      <td>0.0</td>\n",
       "      <td>2015-10-26T14:15:00.000</td>\n",
       "      <td>12dee6bbfff499866a17d2ae2b64db65b4101223</td>\n",
       "      <td>2.8</td>\n",
       "      <td>720.0</td>\n",
       "      <td>2015-10-26T14:00:00.000</td>\n",
       "      <td>9.65</td>\n",
       "    </tr>\n",
       "    <tr>\n",
       "      <th>613307</th>\n",
       "      <td>Taxi Affiliation Services</td>\n",
       "      <td>NaN</td>\n",
       "      <td>41.944227</td>\n",
       "      <td>{'type': 'Point', 'coordinates': [-87.65599818...</td>\n",
       "      <td>-87.655998</td>\n",
       "      <td>6.0</td>\n",
       "      <td>0.0</td>\n",
       "      <td>15.00</td>\n",
       "      <td>Credit Card</td>\n",
       "      <td>NaN</td>\n",
       "      <td>...</td>\n",
       "      <td>32.0</td>\n",
       "      <td>3cd113f8fbc0bde853a72d5f5b6d84ff2da07e7236de34...</td>\n",
       "      <td>3.00</td>\n",
       "      <td>0.0</td>\n",
       "      <td>2016-09-27T17:15:00.000</td>\n",
       "      <td>11162466cdfc32ff538b6d7466b210d3117a1a44</td>\n",
       "      <td>0.2</td>\n",
       "      <td>1200.0</td>\n",
       "      <td>2016-09-27T17:00:00.000</td>\n",
       "      <td>18.00</td>\n",
       "    </tr>\n",
       "    <tr>\n",
       "      <th>471430</th>\n",
       "      <td>Northwest Management LLC</td>\n",
       "      <td>NaN</td>\n",
       "      <td>41.965812</td>\n",
       "      <td>{'type': 'Point', 'coordinates': [-87.65587878...</td>\n",
       "      <td>-87.655879</td>\n",
       "      <td>3.0</td>\n",
       "      <td>1.0</td>\n",
       "      <td>15.45</td>\n",
       "      <td>Cash</td>\n",
       "      <td>NaN</td>\n",
       "      <td>...</td>\n",
       "      <td>32.0</td>\n",
       "      <td>398a697d813055db99bc6a4422617b857b8f8b53ac4e4d...</td>\n",
       "      <td>0.00</td>\n",
       "      <td>0.0</td>\n",
       "      <td>2015-11-18T21:30:00.000</td>\n",
       "      <td>10b3d283ae36ba2c2eda0f1c0631347f74c3fcd8</td>\n",
       "      <td>6.7</td>\n",
       "      <td>660.0</td>\n",
       "      <td>2015-11-18T21:30:00.000</td>\n",
       "      <td>16.45</td>\n",
       "    </tr>\n",
       "    <tr>\n",
       "      <th>1853289</th>\n",
       "      <td>NaN</td>\n",
       "      <td>1.703198e+10</td>\n",
       "      <td>41.979071</td>\n",
       "      <td>{'type': 'Point', 'coordinates': [-87.90303966...</td>\n",
       "      <td>-87.903040</td>\n",
       "      <td>76.0</td>\n",
       "      <td>2.0</td>\n",
       "      <td>36.85</td>\n",
       "      <td>Credit Card</td>\n",
       "      <td>1.703108e+10</td>\n",
       "      <td>...</td>\n",
       "      <td>8.0</td>\n",
       "      <td>a62a0acd486be18bea787321d0084520c39fabb60a3cf8...</td>\n",
       "      <td>7.77</td>\n",
       "      <td>0.0</td>\n",
       "      <td>2015-11-23T06:00:00.000</td>\n",
       "      <td>14711f9ac01cc8c75f3670c4f9d6bb71a4e9857b</td>\n",
       "      <td>18.0</td>\n",
       "      <td>1560.0</td>\n",
       "      <td>2015-11-23T05:30:00.000</td>\n",
       "      <td>46.62</td>\n",
       "    </tr>\n",
       "    <tr>\n",
       "      <th>1875983</th>\n",
       "      <td>Taxi Affiliation Services</td>\n",
       "      <td>1.703177e+10</td>\n",
       "      <td>41.982775</td>\n",
       "      <td>{'type': 'Point', 'coordinates': [-87.87730539...</td>\n",
       "      <td>-87.877305</td>\n",
       "      <td>NaN</td>\n",
       "      <td>3.5</td>\n",
       "      <td>9.05</td>\n",
       "      <td>Credit Card</td>\n",
       "      <td>1.703198e+10</td>\n",
       "      <td>...</td>\n",
       "      <td>76.0</td>\n",
       "      <td>32693393c16a975b5a11cddc63ad4e963b8b3282ba08b2...</td>\n",
       "      <td>2.50</td>\n",
       "      <td>0.0</td>\n",
       "      <td>2014-02-03T14:45:00.000</td>\n",
       "      <td>1480c626b7bde1e8d33e157469835d014f8f6fb2</td>\n",
       "      <td>0.0</td>\n",
       "      <td>480.0</td>\n",
       "      <td>2014-02-03T14:45:00.000</td>\n",
       "      <td>15.05</td>\n",
       "    </tr>\n",
       "  </tbody>\n",
       "</table>\n",
       "<p>10 rows × 23 columns</p>\n",
       "</div>"
      ],
      "text/plain": [
       "                           company  dropoff_census_tract  \\\n",
       "1255227                        NaN                   NaN   \n",
       "361512                         NaN          1.703108e+10   \n",
       "1178428                        NaN          1.703108e+10   \n",
       "859197     Choice Taxi Association          1.703108e+10   \n",
       "449996   Taxi Affiliation Services          1.703184e+10   \n",
       "1271946  Taxi Affiliation Services                   NaN   \n",
       "613307   Taxi Affiliation Services                   NaN   \n",
       "471430    Northwest Management LLC                   NaN   \n",
       "1853289                        NaN          1.703198e+10   \n",
       "1875983  Taxi Affiliation Services          1.703177e+10   \n",
       "\n",
       "         dropoff_centroid_latitude  \\\n",
       "1255227                  41.922686   \n",
       "361512                   41.892042   \n",
       "1178428                  41.891972   \n",
       "859197                   41.892042   \n",
       "449996                   41.880994   \n",
       "1271946                  41.901207   \n",
       "613307                   41.944227   \n",
       "471430                   41.965812   \n",
       "1853289                  41.979071   \n",
       "1875983                  41.982775   \n",
       "\n",
       "                                 dropoff_centroid_location  \\\n",
       "1255227  {'type': 'Point', 'coordinates': [-87.64948872...   \n",
       "361512   {'type': 'Point', 'coordinates': [-87.63186394...   \n",
       "1178428  {'type': 'Point', 'coordinates': [-87.61294541...   \n",
       "859197   {'type': 'Point', 'coordinates': [-87.63186394...   \n",
       "449996   {'type': 'Point', 'coordinates': [-87.63274648...   \n",
       "1271946  {'type': 'Point', 'coordinates': [-87.67635598...   \n",
       "613307   {'type': 'Point', 'coordinates': [-87.65599818...   \n",
       "471430   {'type': 'Point', 'coordinates': [-87.65587878...   \n",
       "1853289  {'type': 'Point', 'coordinates': [-87.90303966...   \n",
       "1875983  {'type': 'Point', 'coordinates': [-87.87730539...   \n",
       "\n",
       "         dropoff_centroid_longitude  dropoff_community_area  extras   fare  \\\n",
       "1255227                  -87.649489                     7.0     1.0  12.25   \n",
       "361512                   -87.631864                     8.0     1.0   4.45   \n",
       "1178428                  -87.612945                     8.0     1.0  10.05   \n",
       "859197                   -87.631864                     8.0     0.0   5.05   \n",
       "449996                   -87.632746                    32.0     0.0   6.85   \n",
       "1271946                  -87.676356                    24.0     0.0   9.65   \n",
       "613307                   -87.655998                     6.0     0.0  15.00   \n",
       "471430                   -87.655879                     3.0     1.0  15.45   \n",
       "1853289                  -87.903040                    76.0     2.0  36.85   \n",
       "1875983                  -87.877305                     NaN     3.5   9.05   \n",
       "\n",
       "        payment_type  pickup_census_tract  ...  pickup_community_area  \\\n",
       "1255227         Cash                  NaN  ...                    8.0   \n",
       "361512   Credit Card         1.703108e+10  ...                    8.0   \n",
       "1178428         Cash         1.703184e+10  ...                   32.0   \n",
       "859197          Cash         1.703184e+10  ...                   32.0   \n",
       "449996          Cash         1.703184e+10  ...                   32.0   \n",
       "1271946         Cash                  NaN  ...                    8.0   \n",
       "613307   Credit Card                  NaN  ...                   32.0   \n",
       "471430          Cash                  NaN  ...                   32.0   \n",
       "1853289  Credit Card         1.703108e+10  ...                    8.0   \n",
       "1875983  Credit Card         1.703198e+10  ...                   76.0   \n",
       "\n",
       "                                                   taxi_id  tips  tolls  \\\n",
       "1255227  d5aba5063677865e59e8065941035b88b25e58fc949fc5...  0.00    0.0   \n",
       "361512   f0b96329a7e3906bb2e11b8af456f130f0ae9b2b57643e...  2.00    0.0   \n",
       "1178428  e8b30fe3cdcf458994b6943ba607e06f31b92202cab6b7...  0.00    0.0   \n",
       "859197   c92ffc47a21e745772199e454f7749ca499407d0079a94...  0.00    0.0   \n",
       "449996   a4e38923fa3ca8f2e4b1f0497275f97a199cd4f35a2dea...  0.00    0.0   \n",
       "1271946  300d94fbea035e07d9e812a32051950a7ad66f7de3a3af...  0.00    0.0   \n",
       "613307   3cd113f8fbc0bde853a72d5f5b6d84ff2da07e7236de34...  3.00    0.0   \n",
       "471430   398a697d813055db99bc6a4422617b857b8f8b53ac4e4d...  0.00    0.0   \n",
       "1853289  a62a0acd486be18bea787321d0084520c39fabb60a3cf8...  7.77    0.0   \n",
       "1875983  32693393c16a975b5a11cddc63ad4e963b8b3282ba08b2...  2.50    0.0   \n",
       "\n",
       "              trip_end_timestamp                                   trip_id  \\\n",
       "1255227  2015-12-23T22:15:00.000  12d36b3be9d6e61c22c8341bb81f1d8516d2611e   \n",
       "361512   2015-06-24T20:00:00.000  10677afb11db1800ba38cf2bbe3e9668989e405e   \n",
       "1178428  2013-07-13T13:15:00.000  129e43c65ba9465eb16faa1b43b590ed39fc4b70   \n",
       "859197   2014-06-11T22:15:00.000  11c0bd6ad652652e2f0e388c51a64b1726c587f4   \n",
       "449996   2014-03-10T19:00:00.000  10a4d7ac3537369bb27d5ea40c93d1d78b6fe307   \n",
       "1271946  2015-10-26T14:15:00.000  12dee6bbfff499866a17d2ae2b64db65b4101223   \n",
       "613307   2016-09-27T17:15:00.000  11162466cdfc32ff538b6d7466b210d3117a1a44   \n",
       "471430   2015-11-18T21:30:00.000  10b3d283ae36ba2c2eda0f1c0631347f74c3fcd8   \n",
       "1853289  2015-11-23T06:00:00.000  14711f9ac01cc8c75f3670c4f9d6bb71a4e9857b   \n",
       "1875983  2014-02-03T14:45:00.000  1480c626b7bde1e8d33e157469835d014f8f6fb2   \n",
       "\n",
       "         trip_miles trip_seconds     trip_start_timestamp  trip_total  \n",
       "1255227         4.4        660.0  2015-12-23T22:00:00.000       13.25  \n",
       "361512          0.4        240.0  2015-06-24T20:00:00.000        7.45  \n",
       "1178428         2.0        960.0  2013-07-13T13:00:00.000       11.05  \n",
       "859197          0.8        240.0  2014-06-11T22:15:00.000        5.05  \n",
       "449996          0.0        600.0  2014-03-10T19:00:00.000        6.85  \n",
       "1271946         2.8        720.0  2015-10-26T14:00:00.000        9.65  \n",
       "613307          0.2       1200.0  2016-09-27T17:00:00.000       18.00  \n",
       "471430          6.7        660.0  2015-11-18T21:30:00.000       16.45  \n",
       "1853289        18.0       1560.0  2015-11-23T05:30:00.000       46.62  \n",
       "1875983         0.0        480.0  2014-02-03T14:45:00.000       15.05  \n",
       "\n",
       "[10 rows x 23 columns]"
      ]
     },
     "execution_count": 2,
     "metadata": {},
     "output_type": "execute_result"
    }
   ],
   "source": [
    "df = pd.read_csv(\"Yellow Cab_Data.csv\")\n",
    "df.sample(10)"
   ]
  },
  {
   "cell_type": "markdown",
   "metadata": {},
   "source": [
    "#### 3(a): In your Jupyter Notebook list the number of rows and columns"
   ]
  },
  {
   "cell_type": "code",
   "execution_count": 3,
   "metadata": {},
   "outputs": [
    {
     "name": "stdout",
     "output_type": "stream",
     "text": [
      "The number of rows: 2000000\n",
      "The number of colunms: 23\n"
     ]
    }
   ],
   "source": [
    "count_row = df.shape[0] \n",
    "count_col = df.shape[1] \n",
    "print('The number of rows:',count_row)\n",
    "print('The number of colunms:',count_col)"
   ]
  },
  {
   "cell_type": "markdown",
   "metadata": {},
   "source": [
    "#### 3(b): In your Jupyter Notebook use a Markdown cell to discuss whether any of the DataFrame columns have null values? Which ones? For each column, compute the fraction of values that are null."
   ]
  },
  {
   "cell_type": "code",
   "execution_count": 4,
   "metadata": {
    "scrolled": true
   },
   "outputs": [
    {
     "name": "stdout",
     "output_type": "stream",
     "text": [
      "company                       701866\n",
      "dropoff_census_tract          571717\n",
      "dropoff_centroid_latitude      57552\n",
      "dropoff_centroid_location      57552\n",
      "dropoff_centroid_longitude     57552\n",
      "dropoff_community_area         61301\n",
      "extras                            17\n",
      "fare                              17\n",
      "pickup_census_tract           555357\n",
      "pickup_centroid_latitude       13816\n",
      "pickup_centroid_location       13816\n",
      "pickup_centroid_longitude      13816\n",
      "pickup_community_area          13859\n",
      "taxi_id                          123\n",
      "tips                              17\n",
      "tolls                             17\n",
      "trip_end_timestamp               288\n",
      "trip_miles                        10\n",
      "trip_seconds                     436\n",
      "trip_total                        17\n",
      "dtype: int64\n"
     ]
    }
   ],
   "source": [
    "null_columns = df.columns[df.isnull().any()]\n",
    "print(df[null_columns].isnull().sum())"
   ]
  },
  {
   "cell_type": "markdown",
   "metadata": {},
   "source": [
    "#### 3(c): What columns seem the most interesting for analysis and what are you going to have to do to clean them?"
   ]
  },
  {
   "cell_type": "markdown",
   "metadata": {},
   "source": [
    "I want to analyze the column \"extras\", \"fare\", \"tolls\", \"tips\", \"trip_total\", because these columns are highly relative with the total revenue. I also want to analyze the column \"pickup_community_area\", I want to find that which area has the highest opportunity to get an order.   \n",
    "I need to drop NA for these columns."
   ]
  },
  {
   "cell_type": "markdown",
   "metadata": {},
   "source": [
    "#### 3(d): The column `trip_total` is the total amount paid by the customer to the taxi driver. What’s your best guess as to how they actually computed `trip_total` using the other columns in the table? Do a calculation to make sure this is what they did. Is your calculation based upon the other columns in the DataFrame close to `trip_total`?"
   ]
  },
  {
   "cell_type": "markdown",
   "metadata": {},
   "source": [
    "trip_total = fare + extra + tolls + tips  \n",
    "From [City of Chicago](https://data.cityofchicago.org/Transportation/Taxi-Trips/wrvz-psew) "
   ]
  },
  {
   "cell_type": "code",
   "execution_count": 5,
   "metadata": {},
   "outputs": [
    {
     "name": "stdout",
     "output_type": "stream",
     "text": [
      "The number of True: 1912399\n",
      "The number of False: 87601\n"
     ]
    }
   ],
   "source": [
    "df1 = df.loc[:,'company':'trip_total']\n",
    "df1['extras'] = df1['extras'].replace(np.nan, 0)\n",
    "df1['fare'] = df1['fare'].replace(np.nan, 0)\n",
    "df1['tips'] = df1['tips'].replace(np.nan, 0)\n",
    "df1['tolls'] = df1['tolls'].replace(np.nan, 0)\n",
    "df1['trip_total'] = df1['trip_total'].replace(np.nan, 0)\n",
    "df1['total_trip']=df1['extras']+df1['fare']+df1['tips']+df1['tolls']\n",
    "lst = list(df1['total_trip'] == df1['trip_total'])\n",
    "print('The number of True:',lst.count(True))\n",
    "print('The number of False:',lst.count(False))"
   ]
  },
  {
   "cell_type": "markdown",
   "metadata": {},
   "source": [
    "Because the original data is not clean, there are same difference."
   ]
  },
  {
   "cell_type": "markdown",
   "metadata": {},
   "source": [
    "## 4. Clean the Data"
   ]
  },
  {
   "cell_type": "markdown",
   "metadata": {},
   "source": [
    "### 4.1 Eliminate Bad Data"
   ]
  },
  {
   "cell_type": "markdown",
   "metadata": {},
   "source": [
    "#### 4.1(a): Delete trips with NaN mileage and NaN seconds and provide a very brief description for why we deleted them. Why didn’t we delete trips with 0 seconds and 0 miles?"
   ]
  },
  {
   "cell_type": "code",
   "execution_count": 6,
   "metadata": {},
   "outputs": [],
   "source": [
    "df=df.dropna(axis=0, subset=['trip_miles','trip_seconds'])"
   ]
  },
  {
   "cell_type": "markdown",
   "metadata": {},
   "source": [
    "Because the NaN value has nothing to do with our analysis, so we need to drop them. But we need to keep the 0 seconds and 0 miles, because trips may still be incurred when mileage is zero and second is zero. For example, the driver and the passenger can negotiate a price without recording mileage and time."
   ]
  },
  {
   "cell_type": "markdown",
   "metadata": {},
   "source": [
    "#### 4.1(b): Delete trips with NaN for cost and with \\$0 cost and provide a very brief description for why we deleted them."
   ]
  },
  {
   "cell_type": "code",
   "execution_count": 7,
   "metadata": {},
   "outputs": [],
   "source": [
    "df=df.dropna(axis=0, subset=['trip_total'])\n",
    "df =df.loc[df.trip_total!=0]"
   ]
  },
  {
   "cell_type": "markdown",
   "metadata": {},
   "source": [
    "Because we want analyze the revenue, the trip with NaN value and 0 value has nothing to do with our analysis."
   ]
  },
  {
   "cell_type": "markdown",
   "metadata": {},
   "source": [
    "### 4.2 Make Datetime objects"
   ]
  },
  {
   "cell_type": "markdown",
   "metadata": {},
   "source": [
    "#### 4.2(a): Convert the columns `trip_start_timestamp` and `trip_end_timestamp` to Pandas datetime objects and store them in new columns named `trip_start` and `trip_end`, respectively. "
   ]
  },
  {
   "cell_type": "code",
   "execution_count": 8,
   "metadata": {},
   "outputs": [
    {
     "data": {
      "text/html": [
       "<div>\n",
       "<style scoped>\n",
       "    .dataframe tbody tr th:only-of-type {\n",
       "        vertical-align: middle;\n",
       "    }\n",
       "\n",
       "    .dataframe tbody tr th {\n",
       "        vertical-align: top;\n",
       "    }\n",
       "\n",
       "    .dataframe thead th {\n",
       "        text-align: right;\n",
       "    }\n",
       "</style>\n",
       "<table border=\"1\" class=\"dataframe\">\n",
       "  <thead>\n",
       "    <tr style=\"text-align: right;\">\n",
       "      <th></th>\n",
       "      <th>company</th>\n",
       "      <th>dropoff_census_tract</th>\n",
       "      <th>dropoff_centroid_latitude</th>\n",
       "      <th>dropoff_centroid_location</th>\n",
       "      <th>dropoff_centroid_longitude</th>\n",
       "      <th>dropoff_community_area</th>\n",
       "      <th>extras</th>\n",
       "      <th>fare</th>\n",
       "      <th>payment_type</th>\n",
       "      <th>pickup_census_tract</th>\n",
       "      <th>...</th>\n",
       "      <th>tips</th>\n",
       "      <th>tolls</th>\n",
       "      <th>trip_end_timestamp</th>\n",
       "      <th>trip_id</th>\n",
       "      <th>trip_miles</th>\n",
       "      <th>trip_seconds</th>\n",
       "      <th>trip_start_timestamp</th>\n",
       "      <th>trip_total</th>\n",
       "      <th>trip_start</th>\n",
       "      <th>trip_end</th>\n",
       "    </tr>\n",
       "  </thead>\n",
       "  <tbody>\n",
       "    <tr>\n",
       "      <th>0</th>\n",
       "      <td>NaN</td>\n",
       "      <td>1.703198e+10</td>\n",
       "      <td>41.979071</td>\n",
       "      <td>{'type': 'Point', 'coordinates': [-87.90303966...</td>\n",
       "      <td>-87.903040</td>\n",
       "      <td>76.0</td>\n",
       "      <td>0.0</td>\n",
       "      <td>29.00</td>\n",
       "      <td>Credit Card</td>\n",
       "      <td>1.703198e+10</td>\n",
       "      <td>...</td>\n",
       "      <td>4.35</td>\n",
       "      <td>0.0</td>\n",
       "      <td>2014-06-24T08:15:00.000</td>\n",
       "      <td>0f6d97fa5263afe0c7a4ea81af91d3bdba8cca39</td>\n",
       "      <td>0.00</td>\n",
       "      <td>0.0</td>\n",
       "      <td>2014-06-24T08:15:00.000</td>\n",
       "      <td>33.35</td>\n",
       "      <td>2014-06-24 08:15:00</td>\n",
       "      <td>2014-06-24 08:15:00</td>\n",
       "    </tr>\n",
       "    <tr>\n",
       "      <th>1</th>\n",
       "      <td>Taxi Affiliation Services</td>\n",
       "      <td>1.703132e+10</td>\n",
       "      <td>41.884987</td>\n",
       "      <td>{'type': 'Point', 'coordinates': [-87.62099291...</td>\n",
       "      <td>-87.620993</td>\n",
       "      <td>32.0</td>\n",
       "      <td>1.0</td>\n",
       "      <td>5.85</td>\n",
       "      <td>Cash</td>\n",
       "      <td>1.703184e+10</td>\n",
       "      <td>...</td>\n",
       "      <td>0.00</td>\n",
       "      <td>0.0</td>\n",
       "      <td>2013-10-09T22:30:00.000</td>\n",
       "      <td>0f6d9803ed1092b9502fbc27b6bf4416d51d1584</td>\n",
       "      <td>1.20</td>\n",
       "      <td>300.0</td>\n",
       "      <td>2013-10-09T22:30:00.000</td>\n",
       "      <td>6.85</td>\n",
       "      <td>2013-10-09 22:30:00</td>\n",
       "      <td>2013-10-09 22:30:00</td>\n",
       "    </tr>\n",
       "    <tr>\n",
       "      <th>2</th>\n",
       "      <td>NaN</td>\n",
       "      <td>NaN</td>\n",
       "      <td>41.922761</td>\n",
       "      <td>{'type': 'Point', 'coordinates': [-87.69915534...</td>\n",
       "      <td>-87.699155</td>\n",
       "      <td>22.0</td>\n",
       "      <td>0.0</td>\n",
       "      <td>7.25</td>\n",
       "      <td>Credit Card</td>\n",
       "      <td>NaN</td>\n",
       "      <td>...</td>\n",
       "      <td>2.00</td>\n",
       "      <td>0.0</td>\n",
       "      <td>2013-05-18T22:45:00.000</td>\n",
       "      <td>0f6d9863f51d9bcfbde34650d5bf03da707b8c30</td>\n",
       "      <td>2.20</td>\n",
       "      <td>360.0</td>\n",
       "      <td>2013-05-18T22:30:00.000</td>\n",
       "      <td>9.25</td>\n",
       "      <td>2013-05-18 22:30:00</td>\n",
       "      <td>2013-05-18 22:45:00</td>\n",
       "    </tr>\n",
       "    <tr>\n",
       "      <th>3</th>\n",
       "      <td>Taxi Affiliation Services</td>\n",
       "      <td>1.703184e+10</td>\n",
       "      <td>41.904935</td>\n",
       "      <td>{'type': 'Point', 'coordinates': [-87.64990722...</td>\n",
       "      <td>-87.649907</td>\n",
       "      <td>8.0</td>\n",
       "      <td>0.0</td>\n",
       "      <td>8.45</td>\n",
       "      <td>Cash</td>\n",
       "      <td>1.703128e+10</td>\n",
       "      <td>...</td>\n",
       "      <td>0.00</td>\n",
       "      <td>0.0</td>\n",
       "      <td>2015-09-14T10:30:00.000</td>\n",
       "      <td>0f6d98a5e3058b341c580d52f10e8b67e8a2886b</td>\n",
       "      <td>1.40</td>\n",
       "      <td>780.0</td>\n",
       "      <td>2015-09-14T10:15:00.000</td>\n",
       "      <td>8.45</td>\n",
       "      <td>2015-09-14 10:15:00</td>\n",
       "      <td>2015-09-14 10:30:00</td>\n",
       "    </tr>\n",
       "    <tr>\n",
       "      <th>4</th>\n",
       "      <td>Taxi Affiliation Services</td>\n",
       "      <td>1.703124e+10</td>\n",
       "      <td>41.900560</td>\n",
       "      <td>{'type': 'Point', 'coordinates': [-87.69419737...</td>\n",
       "      <td>-87.694197</td>\n",
       "      <td>24.0</td>\n",
       "      <td>0.0</td>\n",
       "      <td>7.25</td>\n",
       "      <td>Cash</td>\n",
       "      <td>1.703124e+10</td>\n",
       "      <td>...</td>\n",
       "      <td>0.00</td>\n",
       "      <td>0.0</td>\n",
       "      <td>2015-10-24T11:30:00.000</td>\n",
       "      <td>0f6d98a6a24a38b4dcf0d476836459e298969ac6</td>\n",
       "      <td>2.20</td>\n",
       "      <td>420.0</td>\n",
       "      <td>2015-10-24T11:30:00.000</td>\n",
       "      <td>7.25</td>\n",
       "      <td>2015-10-24 11:30:00</td>\n",
       "      <td>2015-10-24 11:30:00</td>\n",
       "    </tr>\n",
       "    <tr>\n",
       "      <th>5</th>\n",
       "      <td>NaN</td>\n",
       "      <td>1.703108e+10</td>\n",
       "      <td>41.892042</td>\n",
       "      <td>{'type': 'Point', 'coordinates': [-87.63186394...</td>\n",
       "      <td>-87.631864</td>\n",
       "      <td>8.0</td>\n",
       "      <td>1.5</td>\n",
       "      <td>9.50</td>\n",
       "      <td>Cash</td>\n",
       "      <td>1.703108e+10</td>\n",
       "      <td>...</td>\n",
       "      <td>0.00</td>\n",
       "      <td>0.0</td>\n",
       "      <td>2017-03-12T01:30:00.000</td>\n",
       "      <td>0f6d990b322b407441e5ff63b63d583da05138d7</td>\n",
       "      <td>2.50</td>\n",
       "      <td>540.0</td>\n",
       "      <td>2017-03-12T01:30:00.000</td>\n",
       "      <td>11.00</td>\n",
       "      <td>2017-03-12 01:30:00</td>\n",
       "      <td>2017-03-12 01:30:00</td>\n",
       "    </tr>\n",
       "    <tr>\n",
       "      <th>6</th>\n",
       "      <td>Blue Ribbon Taxi Association Inc.</td>\n",
       "      <td>1.703108e+10</td>\n",
       "      <td>41.890922</td>\n",
       "      <td>{'type': 'Point', 'coordinates': [-87.61886835...</td>\n",
       "      <td>-87.618868</td>\n",
       "      <td>8.0</td>\n",
       "      <td>3.0</td>\n",
       "      <td>35.85</td>\n",
       "      <td>Credit Card</td>\n",
       "      <td>NaN</td>\n",
       "      <td>...</td>\n",
       "      <td>0.00</td>\n",
       "      <td>0.0</td>\n",
       "      <td>2013-07-18T12:00:00.000</td>\n",
       "      <td>0f6d9928e3f35b63bd334729b8cdc4e48dde3577</td>\n",
       "      <td>1.00</td>\n",
       "      <td>2220.0</td>\n",
       "      <td>2013-07-18T11:15:00.000</td>\n",
       "      <td>38.85</td>\n",
       "      <td>2013-07-18 11:15:00</td>\n",
       "      <td>2013-07-18 12:00:00</td>\n",
       "    </tr>\n",
       "    <tr>\n",
       "      <th>7</th>\n",
       "      <td>Taxi Affiliation Services</td>\n",
       "      <td>1.703184e+10</td>\n",
       "      <td>41.904935</td>\n",
       "      <td>{'type': 'Point', 'coordinates': [-87.64990722...</td>\n",
       "      <td>-87.649907</td>\n",
       "      <td>8.0</td>\n",
       "      <td>0.0</td>\n",
       "      <td>8.65</td>\n",
       "      <td>Credit Card</td>\n",
       "      <td>1.703132e+10</td>\n",
       "      <td>...</td>\n",
       "      <td>0.00</td>\n",
       "      <td>0.0</td>\n",
       "      <td>2013-01-23T15:45:00.000</td>\n",
       "      <td>0f6d99729a2f1b68fcbb1e8fcc4c91e3a435d5b1</td>\n",
       "      <td>0.00</td>\n",
       "      <td>660.0</td>\n",
       "      <td>2013-01-23T15:30:00.000</td>\n",
       "      <td>8.65</td>\n",
       "      <td>2013-01-23 15:30:00</td>\n",
       "      <td>2013-01-23 15:45:00</td>\n",
       "    </tr>\n",
       "    <tr>\n",
       "      <th>8</th>\n",
       "      <td>NaN</td>\n",
       "      <td>NaN</td>\n",
       "      <td>NaN</td>\n",
       "      <td>NaN</td>\n",
       "      <td>NaN</td>\n",
       "      <td>NaN</td>\n",
       "      <td>0.0</td>\n",
       "      <td>11.05</td>\n",
       "      <td>Cash</td>\n",
       "      <td>1.703108e+10</td>\n",
       "      <td>...</td>\n",
       "      <td>0.00</td>\n",
       "      <td>0.0</td>\n",
       "      <td>2013-08-17T18:45:00.000</td>\n",
       "      <td>0f6d99a548905cba9f35ee6620c91b2d0738faf4</td>\n",
       "      <td>3.44</td>\n",
       "      <td>780.0</td>\n",
       "      <td>2013-08-17T18:30:00.000</td>\n",
       "      <td>11.05</td>\n",
       "      <td>2013-08-17 18:30:00</td>\n",
       "      <td>2013-08-17 18:45:00</td>\n",
       "    </tr>\n",
       "    <tr>\n",
       "      <th>9</th>\n",
       "      <td>Choice Taxi Association</td>\n",
       "      <td>1.703184e+10</td>\n",
       "      <td>41.880994</td>\n",
       "      <td>{'type': 'Point', 'coordinates': [-87.63274648...</td>\n",
       "      <td>-87.632746</td>\n",
       "      <td>32.0</td>\n",
       "      <td>0.0</td>\n",
       "      <td>8.05</td>\n",
       "      <td>Cash</td>\n",
       "      <td>1.703108e+10</td>\n",
       "      <td>...</td>\n",
       "      <td>0.00</td>\n",
       "      <td>0.0</td>\n",
       "      <td>2013-05-17T15:45:00.000</td>\n",
       "      <td>0f6d99cff442ad02a05db9f8e4b819ebc63fda2f</td>\n",
       "      <td>1.90</td>\n",
       "      <td>600.0</td>\n",
       "      <td>2013-05-17T15:45:00.000</td>\n",
       "      <td>8.05</td>\n",
       "      <td>2013-05-17 15:45:00</td>\n",
       "      <td>2013-05-17 15:45:00</td>\n",
       "    </tr>\n",
       "  </tbody>\n",
       "</table>\n",
       "<p>10 rows × 25 columns</p>\n",
       "</div>"
      ],
      "text/plain": [
       "                             company  dropoff_census_tract  \\\n",
       "0                                NaN          1.703198e+10   \n",
       "1          Taxi Affiliation Services          1.703132e+10   \n",
       "2                                NaN                   NaN   \n",
       "3          Taxi Affiliation Services          1.703184e+10   \n",
       "4          Taxi Affiliation Services          1.703124e+10   \n",
       "5                                NaN          1.703108e+10   \n",
       "6  Blue Ribbon Taxi Association Inc.          1.703108e+10   \n",
       "7          Taxi Affiliation Services          1.703184e+10   \n",
       "8                                NaN                   NaN   \n",
       "9            Choice Taxi Association          1.703184e+10   \n",
       "\n",
       "   dropoff_centroid_latitude  \\\n",
       "0                  41.979071   \n",
       "1                  41.884987   \n",
       "2                  41.922761   \n",
       "3                  41.904935   \n",
       "4                  41.900560   \n",
       "5                  41.892042   \n",
       "6                  41.890922   \n",
       "7                  41.904935   \n",
       "8                        NaN   \n",
       "9                  41.880994   \n",
       "\n",
       "                           dropoff_centroid_location  \\\n",
       "0  {'type': 'Point', 'coordinates': [-87.90303966...   \n",
       "1  {'type': 'Point', 'coordinates': [-87.62099291...   \n",
       "2  {'type': 'Point', 'coordinates': [-87.69915534...   \n",
       "3  {'type': 'Point', 'coordinates': [-87.64990722...   \n",
       "4  {'type': 'Point', 'coordinates': [-87.69419737...   \n",
       "5  {'type': 'Point', 'coordinates': [-87.63186394...   \n",
       "6  {'type': 'Point', 'coordinates': [-87.61886835...   \n",
       "7  {'type': 'Point', 'coordinates': [-87.64990722...   \n",
       "8                                                NaN   \n",
       "9  {'type': 'Point', 'coordinates': [-87.63274648...   \n",
       "\n",
       "   dropoff_centroid_longitude  dropoff_community_area  extras   fare  \\\n",
       "0                  -87.903040                    76.0     0.0  29.00   \n",
       "1                  -87.620993                    32.0     1.0   5.85   \n",
       "2                  -87.699155                    22.0     0.0   7.25   \n",
       "3                  -87.649907                     8.0     0.0   8.45   \n",
       "4                  -87.694197                    24.0     0.0   7.25   \n",
       "5                  -87.631864                     8.0     1.5   9.50   \n",
       "6                  -87.618868                     8.0     3.0  35.85   \n",
       "7                  -87.649907                     8.0     0.0   8.65   \n",
       "8                         NaN                     NaN     0.0  11.05   \n",
       "9                  -87.632746                    32.0     0.0   8.05   \n",
       "\n",
       "  payment_type  pickup_census_tract  ...  tips tolls       trip_end_timestamp  \\\n",
       "0  Credit Card         1.703198e+10  ...  4.35   0.0  2014-06-24T08:15:00.000   \n",
       "1         Cash         1.703184e+10  ...  0.00   0.0  2013-10-09T22:30:00.000   \n",
       "2  Credit Card                  NaN  ...  2.00   0.0  2013-05-18T22:45:00.000   \n",
       "3         Cash         1.703128e+10  ...  0.00   0.0  2015-09-14T10:30:00.000   \n",
       "4         Cash         1.703124e+10  ...  0.00   0.0  2015-10-24T11:30:00.000   \n",
       "5         Cash         1.703108e+10  ...  0.00   0.0  2017-03-12T01:30:00.000   \n",
       "6  Credit Card                  NaN  ...  0.00   0.0  2013-07-18T12:00:00.000   \n",
       "7  Credit Card         1.703132e+10  ...  0.00   0.0  2013-01-23T15:45:00.000   \n",
       "8         Cash         1.703108e+10  ...  0.00   0.0  2013-08-17T18:45:00.000   \n",
       "9         Cash         1.703108e+10  ...  0.00   0.0  2013-05-17T15:45:00.000   \n",
       "\n",
       "                                    trip_id trip_miles  trip_seconds  \\\n",
       "0  0f6d97fa5263afe0c7a4ea81af91d3bdba8cca39       0.00           0.0   \n",
       "1  0f6d9803ed1092b9502fbc27b6bf4416d51d1584       1.20         300.0   \n",
       "2  0f6d9863f51d9bcfbde34650d5bf03da707b8c30       2.20         360.0   \n",
       "3  0f6d98a5e3058b341c580d52f10e8b67e8a2886b       1.40         780.0   \n",
       "4  0f6d98a6a24a38b4dcf0d476836459e298969ac6       2.20         420.0   \n",
       "5  0f6d990b322b407441e5ff63b63d583da05138d7       2.50         540.0   \n",
       "6  0f6d9928e3f35b63bd334729b8cdc4e48dde3577       1.00        2220.0   \n",
       "7  0f6d99729a2f1b68fcbb1e8fcc4c91e3a435d5b1       0.00         660.0   \n",
       "8  0f6d99a548905cba9f35ee6620c91b2d0738faf4       3.44         780.0   \n",
       "9  0f6d99cff442ad02a05db9f8e4b819ebc63fda2f       1.90         600.0   \n",
       "\n",
       "      trip_start_timestamp trip_total          trip_start            trip_end  \n",
       "0  2014-06-24T08:15:00.000      33.35 2014-06-24 08:15:00 2014-06-24 08:15:00  \n",
       "1  2013-10-09T22:30:00.000       6.85 2013-10-09 22:30:00 2013-10-09 22:30:00  \n",
       "2  2013-05-18T22:30:00.000       9.25 2013-05-18 22:30:00 2013-05-18 22:45:00  \n",
       "3  2015-09-14T10:15:00.000       8.45 2015-09-14 10:15:00 2015-09-14 10:30:00  \n",
       "4  2015-10-24T11:30:00.000       7.25 2015-10-24 11:30:00 2015-10-24 11:30:00  \n",
       "5  2017-03-12T01:30:00.000      11.00 2017-03-12 01:30:00 2017-03-12 01:30:00  \n",
       "6  2013-07-18T11:15:00.000      38.85 2013-07-18 11:15:00 2013-07-18 12:00:00  \n",
       "7  2013-01-23T15:30:00.000       8.65 2013-01-23 15:30:00 2013-01-23 15:45:00  \n",
       "8  2013-08-17T18:30:00.000      11.05 2013-08-17 18:30:00 2013-08-17 18:45:00  \n",
       "9  2013-05-17T15:45:00.000       8.05 2013-05-17 15:45:00 2013-05-17 15:45:00  \n",
       "\n",
       "[10 rows x 25 columns]"
      ]
     },
     "execution_count": 8,
     "metadata": {},
     "output_type": "execute_result"
    }
   ],
   "source": [
    "df['trip_start'] = pd.to_datetime(df['trip_start_timestamp'])\n",
    "df['trip_end'] = pd.to_datetime(df['trip_end_timestamp'])\n",
    "df.head(10)"
   ]
  },
  {
   "cell_type": "markdown",
   "metadata": {},
   "source": [
    "#### 4.2(b): Create five new columns for the year, month, day, hour, and day of the week respectively (use the start of the trip, since that is something the taxi driver can control)."
   ]
  },
  {
   "cell_type": "code",
   "execution_count": 9,
   "metadata": {},
   "outputs": [
    {
     "data": {
      "text/html": [
       "<div>\n",
       "<style scoped>\n",
       "    .dataframe tbody tr th:only-of-type {\n",
       "        vertical-align: middle;\n",
       "    }\n",
       "\n",
       "    .dataframe tbody tr th {\n",
       "        vertical-align: top;\n",
       "    }\n",
       "\n",
       "    .dataframe thead th {\n",
       "        text-align: right;\n",
       "    }\n",
       "</style>\n",
       "<table border=\"1\" class=\"dataframe\">\n",
       "  <thead>\n",
       "    <tr style=\"text-align: right;\">\n",
       "      <th></th>\n",
       "      <th>company</th>\n",
       "      <th>dropoff_census_tract</th>\n",
       "      <th>dropoff_centroid_latitude</th>\n",
       "      <th>dropoff_centroid_location</th>\n",
       "      <th>dropoff_centroid_longitude</th>\n",
       "      <th>dropoff_community_area</th>\n",
       "      <th>extras</th>\n",
       "      <th>fare</th>\n",
       "      <th>payment_type</th>\n",
       "      <th>pickup_census_tract</th>\n",
       "      <th>...</th>\n",
       "      <th>trip_seconds</th>\n",
       "      <th>trip_start_timestamp</th>\n",
       "      <th>trip_total</th>\n",
       "      <th>trip_start</th>\n",
       "      <th>trip_end</th>\n",
       "      <th>Year</th>\n",
       "      <th>month</th>\n",
       "      <th>day</th>\n",
       "      <th>hour</th>\n",
       "      <th>day of the week</th>\n",
       "    </tr>\n",
       "  </thead>\n",
       "  <tbody>\n",
       "    <tr>\n",
       "      <th>0</th>\n",
       "      <td>NaN</td>\n",
       "      <td>1.703198e+10</td>\n",
       "      <td>41.979071</td>\n",
       "      <td>{'type': 'Point', 'coordinates': [-87.90303966...</td>\n",
       "      <td>-87.903040</td>\n",
       "      <td>76.0</td>\n",
       "      <td>0.0</td>\n",
       "      <td>29.00</td>\n",
       "      <td>Credit Card</td>\n",
       "      <td>1.703198e+10</td>\n",
       "      <td>...</td>\n",
       "      <td>0.0</td>\n",
       "      <td>2014-06-24T08:15:00.000</td>\n",
       "      <td>33.35</td>\n",
       "      <td>2014-06-24 08:15:00</td>\n",
       "      <td>2014-06-24 08:15:00</td>\n",
       "      <td>2014</td>\n",
       "      <td>6</td>\n",
       "      <td>24</td>\n",
       "      <td>8</td>\n",
       "      <td>Tuesday</td>\n",
       "    </tr>\n",
       "    <tr>\n",
       "      <th>1</th>\n",
       "      <td>Taxi Affiliation Services</td>\n",
       "      <td>1.703132e+10</td>\n",
       "      <td>41.884987</td>\n",
       "      <td>{'type': 'Point', 'coordinates': [-87.62099291...</td>\n",
       "      <td>-87.620993</td>\n",
       "      <td>32.0</td>\n",
       "      <td>1.0</td>\n",
       "      <td>5.85</td>\n",
       "      <td>Cash</td>\n",
       "      <td>1.703184e+10</td>\n",
       "      <td>...</td>\n",
       "      <td>300.0</td>\n",
       "      <td>2013-10-09T22:30:00.000</td>\n",
       "      <td>6.85</td>\n",
       "      <td>2013-10-09 22:30:00</td>\n",
       "      <td>2013-10-09 22:30:00</td>\n",
       "      <td>2013</td>\n",
       "      <td>10</td>\n",
       "      <td>9</td>\n",
       "      <td>22</td>\n",
       "      <td>Wednesday</td>\n",
       "    </tr>\n",
       "    <tr>\n",
       "      <th>2</th>\n",
       "      <td>NaN</td>\n",
       "      <td>NaN</td>\n",
       "      <td>41.922761</td>\n",
       "      <td>{'type': 'Point', 'coordinates': [-87.69915534...</td>\n",
       "      <td>-87.699155</td>\n",
       "      <td>22.0</td>\n",
       "      <td>0.0</td>\n",
       "      <td>7.25</td>\n",
       "      <td>Credit Card</td>\n",
       "      <td>NaN</td>\n",
       "      <td>...</td>\n",
       "      <td>360.0</td>\n",
       "      <td>2013-05-18T22:30:00.000</td>\n",
       "      <td>9.25</td>\n",
       "      <td>2013-05-18 22:30:00</td>\n",
       "      <td>2013-05-18 22:45:00</td>\n",
       "      <td>2013</td>\n",
       "      <td>5</td>\n",
       "      <td>18</td>\n",
       "      <td>22</td>\n",
       "      <td>Saturday</td>\n",
       "    </tr>\n",
       "    <tr>\n",
       "      <th>3</th>\n",
       "      <td>Taxi Affiliation Services</td>\n",
       "      <td>1.703184e+10</td>\n",
       "      <td>41.904935</td>\n",
       "      <td>{'type': 'Point', 'coordinates': [-87.64990722...</td>\n",
       "      <td>-87.649907</td>\n",
       "      <td>8.0</td>\n",
       "      <td>0.0</td>\n",
       "      <td>8.45</td>\n",
       "      <td>Cash</td>\n",
       "      <td>1.703128e+10</td>\n",
       "      <td>...</td>\n",
       "      <td>780.0</td>\n",
       "      <td>2015-09-14T10:15:00.000</td>\n",
       "      <td>8.45</td>\n",
       "      <td>2015-09-14 10:15:00</td>\n",
       "      <td>2015-09-14 10:30:00</td>\n",
       "      <td>2015</td>\n",
       "      <td>9</td>\n",
       "      <td>14</td>\n",
       "      <td>10</td>\n",
       "      <td>Monday</td>\n",
       "    </tr>\n",
       "    <tr>\n",
       "      <th>4</th>\n",
       "      <td>Taxi Affiliation Services</td>\n",
       "      <td>1.703124e+10</td>\n",
       "      <td>41.900560</td>\n",
       "      <td>{'type': 'Point', 'coordinates': [-87.69419737...</td>\n",
       "      <td>-87.694197</td>\n",
       "      <td>24.0</td>\n",
       "      <td>0.0</td>\n",
       "      <td>7.25</td>\n",
       "      <td>Cash</td>\n",
       "      <td>1.703124e+10</td>\n",
       "      <td>...</td>\n",
       "      <td>420.0</td>\n",
       "      <td>2015-10-24T11:30:00.000</td>\n",
       "      <td>7.25</td>\n",
       "      <td>2015-10-24 11:30:00</td>\n",
       "      <td>2015-10-24 11:30:00</td>\n",
       "      <td>2015</td>\n",
       "      <td>10</td>\n",
       "      <td>24</td>\n",
       "      <td>11</td>\n",
       "      <td>Saturday</td>\n",
       "    </tr>\n",
       "    <tr>\n",
       "      <th>5</th>\n",
       "      <td>NaN</td>\n",
       "      <td>1.703108e+10</td>\n",
       "      <td>41.892042</td>\n",
       "      <td>{'type': 'Point', 'coordinates': [-87.63186394...</td>\n",
       "      <td>-87.631864</td>\n",
       "      <td>8.0</td>\n",
       "      <td>1.5</td>\n",
       "      <td>9.50</td>\n",
       "      <td>Cash</td>\n",
       "      <td>1.703108e+10</td>\n",
       "      <td>...</td>\n",
       "      <td>540.0</td>\n",
       "      <td>2017-03-12T01:30:00.000</td>\n",
       "      <td>11.00</td>\n",
       "      <td>2017-03-12 01:30:00</td>\n",
       "      <td>2017-03-12 01:30:00</td>\n",
       "      <td>2017</td>\n",
       "      <td>3</td>\n",
       "      <td>12</td>\n",
       "      <td>1</td>\n",
       "      <td>Sunday</td>\n",
       "    </tr>\n",
       "    <tr>\n",
       "      <th>6</th>\n",
       "      <td>Blue Ribbon Taxi Association Inc.</td>\n",
       "      <td>1.703108e+10</td>\n",
       "      <td>41.890922</td>\n",
       "      <td>{'type': 'Point', 'coordinates': [-87.61886835...</td>\n",
       "      <td>-87.618868</td>\n",
       "      <td>8.0</td>\n",
       "      <td>3.0</td>\n",
       "      <td>35.85</td>\n",
       "      <td>Credit Card</td>\n",
       "      <td>NaN</td>\n",
       "      <td>...</td>\n",
       "      <td>2220.0</td>\n",
       "      <td>2013-07-18T11:15:00.000</td>\n",
       "      <td>38.85</td>\n",
       "      <td>2013-07-18 11:15:00</td>\n",
       "      <td>2013-07-18 12:00:00</td>\n",
       "      <td>2013</td>\n",
       "      <td>7</td>\n",
       "      <td>18</td>\n",
       "      <td>11</td>\n",
       "      <td>Thursday</td>\n",
       "    </tr>\n",
       "    <tr>\n",
       "      <th>7</th>\n",
       "      <td>Taxi Affiliation Services</td>\n",
       "      <td>1.703184e+10</td>\n",
       "      <td>41.904935</td>\n",
       "      <td>{'type': 'Point', 'coordinates': [-87.64990722...</td>\n",
       "      <td>-87.649907</td>\n",
       "      <td>8.0</td>\n",
       "      <td>0.0</td>\n",
       "      <td>8.65</td>\n",
       "      <td>Credit Card</td>\n",
       "      <td>1.703132e+10</td>\n",
       "      <td>...</td>\n",
       "      <td>660.0</td>\n",
       "      <td>2013-01-23T15:30:00.000</td>\n",
       "      <td>8.65</td>\n",
       "      <td>2013-01-23 15:30:00</td>\n",
       "      <td>2013-01-23 15:45:00</td>\n",
       "      <td>2013</td>\n",
       "      <td>1</td>\n",
       "      <td>23</td>\n",
       "      <td>15</td>\n",
       "      <td>Wednesday</td>\n",
       "    </tr>\n",
       "    <tr>\n",
       "      <th>8</th>\n",
       "      <td>NaN</td>\n",
       "      <td>NaN</td>\n",
       "      <td>NaN</td>\n",
       "      <td>NaN</td>\n",
       "      <td>NaN</td>\n",
       "      <td>NaN</td>\n",
       "      <td>0.0</td>\n",
       "      <td>11.05</td>\n",
       "      <td>Cash</td>\n",
       "      <td>1.703108e+10</td>\n",
       "      <td>...</td>\n",
       "      <td>780.0</td>\n",
       "      <td>2013-08-17T18:30:00.000</td>\n",
       "      <td>11.05</td>\n",
       "      <td>2013-08-17 18:30:00</td>\n",
       "      <td>2013-08-17 18:45:00</td>\n",
       "      <td>2013</td>\n",
       "      <td>8</td>\n",
       "      <td>17</td>\n",
       "      <td>18</td>\n",
       "      <td>Saturday</td>\n",
       "    </tr>\n",
       "    <tr>\n",
       "      <th>9</th>\n",
       "      <td>Choice Taxi Association</td>\n",
       "      <td>1.703184e+10</td>\n",
       "      <td>41.880994</td>\n",
       "      <td>{'type': 'Point', 'coordinates': [-87.63274648...</td>\n",
       "      <td>-87.632746</td>\n",
       "      <td>32.0</td>\n",
       "      <td>0.0</td>\n",
       "      <td>8.05</td>\n",
       "      <td>Cash</td>\n",
       "      <td>1.703108e+10</td>\n",
       "      <td>...</td>\n",
       "      <td>600.0</td>\n",
       "      <td>2013-05-17T15:45:00.000</td>\n",
       "      <td>8.05</td>\n",
       "      <td>2013-05-17 15:45:00</td>\n",
       "      <td>2013-05-17 15:45:00</td>\n",
       "      <td>2013</td>\n",
       "      <td>5</td>\n",
       "      <td>17</td>\n",
       "      <td>15</td>\n",
       "      <td>Friday</td>\n",
       "    </tr>\n",
       "  </tbody>\n",
       "</table>\n",
       "<p>10 rows × 30 columns</p>\n",
       "</div>"
      ],
      "text/plain": [
       "                             company  dropoff_census_tract  \\\n",
       "0                                NaN          1.703198e+10   \n",
       "1          Taxi Affiliation Services          1.703132e+10   \n",
       "2                                NaN                   NaN   \n",
       "3          Taxi Affiliation Services          1.703184e+10   \n",
       "4          Taxi Affiliation Services          1.703124e+10   \n",
       "5                                NaN          1.703108e+10   \n",
       "6  Blue Ribbon Taxi Association Inc.          1.703108e+10   \n",
       "7          Taxi Affiliation Services          1.703184e+10   \n",
       "8                                NaN                   NaN   \n",
       "9            Choice Taxi Association          1.703184e+10   \n",
       "\n",
       "   dropoff_centroid_latitude  \\\n",
       "0                  41.979071   \n",
       "1                  41.884987   \n",
       "2                  41.922761   \n",
       "3                  41.904935   \n",
       "4                  41.900560   \n",
       "5                  41.892042   \n",
       "6                  41.890922   \n",
       "7                  41.904935   \n",
       "8                        NaN   \n",
       "9                  41.880994   \n",
       "\n",
       "                           dropoff_centroid_location  \\\n",
       "0  {'type': 'Point', 'coordinates': [-87.90303966...   \n",
       "1  {'type': 'Point', 'coordinates': [-87.62099291...   \n",
       "2  {'type': 'Point', 'coordinates': [-87.69915534...   \n",
       "3  {'type': 'Point', 'coordinates': [-87.64990722...   \n",
       "4  {'type': 'Point', 'coordinates': [-87.69419737...   \n",
       "5  {'type': 'Point', 'coordinates': [-87.63186394...   \n",
       "6  {'type': 'Point', 'coordinates': [-87.61886835...   \n",
       "7  {'type': 'Point', 'coordinates': [-87.64990722...   \n",
       "8                                                NaN   \n",
       "9  {'type': 'Point', 'coordinates': [-87.63274648...   \n",
       "\n",
       "   dropoff_centroid_longitude  dropoff_community_area  extras   fare  \\\n",
       "0                  -87.903040                    76.0     0.0  29.00   \n",
       "1                  -87.620993                    32.0     1.0   5.85   \n",
       "2                  -87.699155                    22.0     0.0   7.25   \n",
       "3                  -87.649907                     8.0     0.0   8.45   \n",
       "4                  -87.694197                    24.0     0.0   7.25   \n",
       "5                  -87.631864                     8.0     1.5   9.50   \n",
       "6                  -87.618868                     8.0     3.0  35.85   \n",
       "7                  -87.649907                     8.0     0.0   8.65   \n",
       "8                         NaN                     NaN     0.0  11.05   \n",
       "9                  -87.632746                    32.0     0.0   8.05   \n",
       "\n",
       "  payment_type  pickup_census_tract  ...  trip_seconds  \\\n",
       "0  Credit Card         1.703198e+10  ...           0.0   \n",
       "1         Cash         1.703184e+10  ...         300.0   \n",
       "2  Credit Card                  NaN  ...         360.0   \n",
       "3         Cash         1.703128e+10  ...         780.0   \n",
       "4         Cash         1.703124e+10  ...         420.0   \n",
       "5         Cash         1.703108e+10  ...         540.0   \n",
       "6  Credit Card                  NaN  ...        2220.0   \n",
       "7  Credit Card         1.703132e+10  ...         660.0   \n",
       "8         Cash         1.703108e+10  ...         780.0   \n",
       "9         Cash         1.703108e+10  ...         600.0   \n",
       "\n",
       "      trip_start_timestamp  trip_total          trip_start  \\\n",
       "0  2014-06-24T08:15:00.000       33.35 2014-06-24 08:15:00   \n",
       "1  2013-10-09T22:30:00.000        6.85 2013-10-09 22:30:00   \n",
       "2  2013-05-18T22:30:00.000        9.25 2013-05-18 22:30:00   \n",
       "3  2015-09-14T10:15:00.000        8.45 2015-09-14 10:15:00   \n",
       "4  2015-10-24T11:30:00.000        7.25 2015-10-24 11:30:00   \n",
       "5  2017-03-12T01:30:00.000       11.00 2017-03-12 01:30:00   \n",
       "6  2013-07-18T11:15:00.000       38.85 2013-07-18 11:15:00   \n",
       "7  2013-01-23T15:30:00.000        8.65 2013-01-23 15:30:00   \n",
       "8  2013-08-17T18:30:00.000       11.05 2013-08-17 18:30:00   \n",
       "9  2013-05-17T15:45:00.000        8.05 2013-05-17 15:45:00   \n",
       "\n",
       "             trip_end  Year  month day hour  day of the week  \n",
       "0 2014-06-24 08:15:00  2014      6  24    8          Tuesday  \n",
       "1 2013-10-09 22:30:00  2013     10   9   22        Wednesday  \n",
       "2 2013-05-18 22:45:00  2013      5  18   22         Saturday  \n",
       "3 2015-09-14 10:30:00  2015      9  14   10           Monday  \n",
       "4 2015-10-24 11:30:00  2015     10  24   11         Saturday  \n",
       "5 2017-03-12 01:30:00  2017      3  12    1           Sunday  \n",
       "6 2013-07-18 12:00:00  2013      7  18   11         Thursday  \n",
       "7 2013-01-23 15:45:00  2013      1  23   15        Wednesday  \n",
       "8 2013-08-17 18:45:00  2013      8  17   18         Saturday  \n",
       "9 2013-05-17 15:45:00  2013      5  17   15           Friday  \n",
       "\n",
       "[10 rows x 30 columns]"
      ]
     },
     "execution_count": 9,
     "metadata": {},
     "output_type": "execute_result"
    }
   ],
   "source": [
    "df['Year'] = df['trip_start'].dt.year\n",
    "df['month'] = df['trip_start'].dt.month\n",
    "df['day'] = df['trip_start'].dt.day\n",
    "df['hour'] = df['trip_start'].dt.hour\n",
    "df['day of the week'] = df['trip_start'].dt.strftime('%A')\n",
    "df.head(10)"
   ]
  },
  {
   "cell_type": "markdown",
   "metadata": {},
   "source": [
    "#### 4.2(c): List the number of columns and rows of the DataFrame."
   ]
  },
  {
   "cell_type": "code",
   "execution_count": 10,
   "metadata": {},
   "outputs": [
    {
     "name": "stdout",
     "output_type": "stream",
     "text": [
      "The number of rows: 1997211\n",
      "The number of columns: 30\n"
     ]
    }
   ],
   "source": [
    "count_row = df.shape[0] \n",
    "count_col = df.shape[1] \n",
    "print('The number of rows:',count_row)\n",
    "print('The number of columns:',count_col)"
   ]
  },
  {
   "cell_type": "markdown",
   "metadata": {},
   "source": [
    "### 4.3 Get Rid of Outliers"
   ]
  },
  {
   "cell_type": "markdown",
   "metadata": {},
   "source": [
    "Run the following cell, which defines a function called `CreateHistogram`. This function will produce an interactive plot."
   ]
  },
  {
   "cell_type": "code",
   "execution_count": 11,
   "metadata": {},
   "outputs": [],
   "source": [
    "# The first argument should be a Pandas DataFrame.\n",
    "# The second argument should be a string that contains the name of a column in the dataframe.\n",
    "def CreateHistogram(dataframe, col_name):\n",
    "    num_bins=50\n",
    "\n",
    "    hist, edges = np.histogram(dataframe[col_name], bins=num_bins)\n",
    "\n",
    "    data = {'top': hist, \n",
    "            'bottom': np.zeros(len(hist)), \n",
    "            'left': edges[:-1], \n",
    "            'right': edges[1:]}\n",
    "    source = ColumnDataSource(data)\n",
    "\n",
    "    p = figure(tools='pan,box_zoom,wheel_zoom,undo,reset,save', \n",
    "               background_fill_color=\"#fafafa\",\n",
    "               plot_height=400, plot_width=400)\n",
    "    p.quad(top=\"top\", bottom=\"bottom\", left=\"left\", right=\"right\", \n",
    "           source=source,\n",
    "           fill_color=\"navy\", line_color=\"white\", alpha=0.5,\n",
    "           hover_fill_color='firebrick', hover_alpha=1.0,\n",
    "           hover_line_color='white')\n",
    "\n",
    "    # Create a HoverTool and add it to the figure\n",
    "    hover = HoverTool(tooltips=[('Left edge','@left{0,0.00}'), \n",
    "                                ('Right edge','@right{0,0.00}'), \n",
    "                                ('Height','@top{0,0}')],\n",
    "                      mode='mouse')\n",
    "    p.add_tools(hover)\n",
    "\n",
    "    p.y_range.start = 0\n",
    "    p.xaxis.axis_label = col_name\n",
    "    p.yaxis.axis_label = 'Count'\n",
    "    p.grid.grid_line_color=\"white\"\n",
    "\n",
    "    show(p)"
   ]
  },
  {
   "cell_type": "markdown",
   "metadata": {},
   "source": [
    "#### 4.3a Create a histogram of the column `trip_total` using the function `CreateHistogram` defined above."
   ]
  },
  {
   "cell_type": "code",
   "execution_count": 12,
   "metadata": {},
   "outputs": [
    {
     "data": {
      "text/html": [
       "\n",
       "\n",
       "\n",
       "\n",
       "\n",
       "\n",
       "  <div class=\"bk-root\" id=\"8710a859-5f41-4a51-81e3-46d0dda77357\" data-root-id=\"1003\"></div>\n"
      ]
     },
     "metadata": {},
     "output_type": "display_data"
    },
    {
     "data": {
      "application/javascript": [
       "(function(root) {\n",
       "  function embed_document(root) {\n",
       "    \n",
       "  var docs_json = {\"ed09aa57-f1be-41c8-8fff-f0f2affb503f\":{\"roots\":{\"references\":[{\"attributes\":{\"background_fill_color\":{\"value\":\"#fafafa\"},\"below\":[{\"id\":\"1012\",\"type\":\"LinearAxis\"}],\"left\":[{\"id\":\"1017\",\"type\":\"LinearAxis\"}],\"plot_height\":400,\"plot_width\":400,\"renderers\":[{\"id\":\"1012\",\"type\":\"LinearAxis\"},{\"id\":\"1016\",\"type\":\"Grid\"},{\"id\":\"1017\",\"type\":\"LinearAxis\"},{\"id\":\"1021\",\"type\":\"Grid\"},{\"id\":\"1029\",\"type\":\"BoxAnnotation\"},{\"id\":\"1041\",\"type\":\"GlyphRenderer\"}],\"title\":{\"id\":\"1046\",\"type\":\"Title\"},\"toolbar\":{\"id\":\"1028\",\"type\":\"Toolbar\"},\"x_range\":{\"id\":\"1004\",\"type\":\"DataRange1d\"},\"x_scale\":{\"id\":\"1008\",\"type\":\"LinearScale\"},\"y_range\":{\"id\":\"1006\",\"type\":\"DataRange1d\"},\"y_scale\":{\"id\":\"1010\",\"type\":\"LinearScale\"}},\"id\":\"1003\",\"subtype\":\"Figure\",\"type\":\"Plot\"},{\"attributes\":{\"bottom_units\":\"screen\",\"fill_alpha\":{\"value\":0.5},\"fill_color\":{\"value\":\"lightgrey\"},\"left_units\":\"screen\",\"level\":\"overlay\",\"line_alpha\":{\"value\":1.0},\"line_color\":{\"value\":\"black\"},\"line_dash\":[4,4],\"line_width\":{\"value\":2},\"plot\":null,\"render_mode\":\"css\",\"right_units\":\"screen\",\"top_units\":\"screen\"},\"id\":\"1029\",\"type\":\"BoxAnnotation\"},{\"attributes\":{},\"id\":\"1027\",\"type\":\"SaveTool\"},{\"attributes\":{},\"id\":\"1022\",\"type\":\"PanTool\"},{\"attributes\":{\"bottom\":{\"field\":\"bottom\"},\"fill_color\":{\"value\":\"firebrick\"},\"left\":{\"field\":\"left\"},\"line_color\":{\"value\":\"white\"},\"right\":{\"field\":\"right\"},\"top\":{\"field\":\"top\"}},\"id\":\"1040\",\"type\":\"Quad\"},{\"attributes\":{\"axis_label\":\"Count\",\"formatter\":{\"id\":\"1049\",\"type\":\"BasicTickFormatter\"},\"plot\":{\"id\":\"1003\",\"subtype\":\"Figure\",\"type\":\"Plot\"},\"ticker\":{\"id\":\"1018\",\"type\":\"BasicTicker\"}},\"id\":\"1017\",\"type\":\"LinearAxis\"},{\"attributes\":{\"dimension\":1,\"grid_line_color\":{\"value\":\"white\"},\"plot\":{\"id\":\"1003\",\"subtype\":\"Figure\",\"type\":\"Plot\"},\"ticker\":{\"id\":\"1018\",\"type\":\"BasicTicker\"}},\"id\":\"1021\",\"type\":\"Grid\"},{\"attributes\":{\"data_source\":{\"id\":\"1002\",\"type\":\"ColumnDataSource\"},\"glyph\":{\"id\":\"1038\",\"type\":\"Quad\"},\"hover_glyph\":{\"id\":\"1040\",\"type\":\"Quad\"},\"muted_glyph\":null,\"nonselection_glyph\":{\"id\":\"1039\",\"type\":\"Quad\"},\"selection_glyph\":null,\"view\":{\"id\":\"1042\",\"type\":\"CDSView\"}},\"id\":\"1041\",\"type\":\"GlyphRenderer\"},{\"attributes\":{},\"id\":\"1018\",\"type\":\"BasicTicker\"},{\"attributes\":{\"source\":{\"id\":\"1002\",\"type\":\"ColumnDataSource\"}},\"id\":\"1042\",\"type\":\"CDSView\"},{\"attributes\":{\"callback\":null},\"id\":\"1004\",\"type\":\"DataRange1d\"},{\"attributes\":{\"callback\":null,\"tooltips\":[[\"Left edge\",\"@left{0,0.00}\"],[\"Right edge\",\"@right{0,0.00}\"],[\"Height\",\"@top{0,0}\"]]},\"id\":\"1043\",\"type\":\"HoverTool\"},{\"attributes\":{},\"id\":\"1010\",\"type\":\"LinearScale\"},{\"attributes\":{},\"id\":\"1026\",\"type\":\"ResetTool\"},{\"attributes\":{\"axis_label\":\"trip_total\",\"formatter\":{\"id\":\"1047\",\"type\":\"BasicTickFormatter\"},\"plot\":{\"id\":\"1003\",\"subtype\":\"Figure\",\"type\":\"Plot\"},\"ticker\":{\"id\":\"1013\",\"type\":\"BasicTicker\"}},\"id\":\"1012\",\"type\":\"LinearAxis\"},{\"attributes\":{\"plot\":null,\"text\":\"\"},\"id\":\"1046\",\"type\":\"Title\"},{\"attributes\":{\"bottom\":{\"field\":\"bottom\"},\"fill_alpha\":{\"value\":0.1},\"fill_color\":{\"value\":\"#1f77b4\"},\"left\":{\"field\":\"left\"},\"line_alpha\":{\"value\":0.1},\"line_color\":{\"value\":\"#1f77b4\"},\"right\":{\"field\":\"right\"},\"top\":{\"field\":\"top\"}},\"id\":\"1039\",\"type\":\"Quad\"},{\"attributes\":{},\"id\":\"1047\",\"type\":\"BasicTickFormatter\"},{\"attributes\":{\"active_drag\":\"auto\",\"active_inspect\":\"auto\",\"active_multi\":null,\"active_scroll\":\"auto\",\"active_tap\":\"auto\",\"tools\":[{\"id\":\"1022\",\"type\":\"PanTool\"},{\"id\":\"1023\",\"type\":\"BoxZoomTool\"},{\"id\":\"1024\",\"type\":\"WheelZoomTool\"},{\"id\":\"1025\",\"type\":\"UndoTool\"},{\"id\":\"1026\",\"type\":\"ResetTool\"},{\"id\":\"1027\",\"type\":\"SaveTool\"},{\"id\":\"1043\",\"type\":\"HoverTool\"}]},\"id\":\"1028\",\"type\":\"Toolbar\"},{\"attributes\":{},\"id\":\"1049\",\"type\":\"BasicTickFormatter\"},{\"attributes\":{},\"id\":\"1052\",\"type\":\"UnionRenderers\"},{\"attributes\":{\"bottom\":{\"field\":\"bottom\"},\"fill_alpha\":{\"value\":0.5},\"fill_color\":{\"value\":\"navy\"},\"left\":{\"field\":\"left\"},\"line_alpha\":{\"value\":0.5},\"line_color\":{\"value\":\"white\"},\"right\":{\"field\":\"right\"},\"top\":{\"field\":\"top\"}},\"id\":\"1038\",\"type\":\"Quad\"},{\"attributes\":{},\"id\":\"1053\",\"type\":\"Selection\"},{\"attributes\":{\"callback\":null,\"start\":0},\"id\":\"1006\",\"type\":\"DataRange1d\"},{\"attributes\":{},\"id\":\"1025\",\"type\":\"UndoTool\"},{\"attributes\":{\"grid_line_color\":{\"value\":\"white\"},\"plot\":{\"id\":\"1003\",\"subtype\":\"Figure\",\"type\":\"Plot\"},\"ticker\":{\"id\":\"1013\",\"type\":\"BasicTicker\"}},\"id\":\"1016\",\"type\":\"Grid\"},{\"attributes\":{},\"id\":\"1013\",\"type\":\"BasicTicker\"},{\"attributes\":{},\"id\":\"1008\",\"type\":\"LinearScale\"},{\"attributes\":{\"callback\":null,\"data\":{\"bottom\":{\"__ndarray__\":\"AAAAAAAAAAAAAAAAAAAAAAAAAAAAAAAAAAAAAAAAAAAAAAAAAAAAAAAAAAAAAAAAAAAAAAAAAAAAAAAAAAAAAAAAAAAAAAAAAAAAAAAAAAAAAAAAAAAAAAAAAAAAAAAAAAAAAAAAAAAAAAAAAAAAAAAAAAAAAAAAAAAAAAAAAAAAAAAAAAAAAAAAAAAAAAAAAAAAAAAAAAAAAAAAAAAAAAAAAAAAAAAAAAAAAAAAAAAAAAAAAAAAAAAAAAAAAAAAAAAAAAAAAAAAAAAAAAAAAAAAAAAAAAAAAAAAAAAAAAAAAAAAAAAAAAAAAAAAAAAAAAAAAAAAAAAAAAAAAAAAAAAAAAAAAAAAAAAAAAAAAAAAAAAAAAAAAAAAAAAAAAAAAAAAAAAAAAAAAAAAAAAAAAAAAAAAAAAAAAAAAAAAAAAAAAAAAAAAAAAAAAAAAAAAAAAAAAAAAAAAAAAAAAAAAAAAAAAAAAAAAAAAAAAAAAAAAAAAAAAAAAAAAAAAAAAAAAAAAAAAAAAAAAAAAAAAAA==\",\"dtype\":\"float64\",\"shape\":[50]},\"left\":{\"__ndarray__\":\"exSuR+F6hD946SYxCLxoQBxaZDvfu3hAvp8aL92MgkBuEoPAyruIQB6F61G46o5A5/up8dKMkkA/NV66SaSVQJduEoPAu5hA76fGSzfTm0BH4XoUruqeQFCNl24SAaFA/Knx0s2MokCoxks3iRikQFTjpZtEpKVAAAAAAAAwp0CsHFpku7uoQFg5tMh2R6pABFYOLTLTq0CwcmiR7V6tQFyPwvWo6q5ABFYOLTI7sEBaZDvfDwGxQLByaJHtxrFABoGVQ8uMskBcj8L1qFKzQLKd76eGGLRACKwcWmTetEBeukkMQqS1QLTIdr4farZACtejcP0vt0Bg5dAi2/W3QLbz/dS4u7hADAIrh5aBuUBiEFg5dEe6QLgehetRDbtADi2ynS/Tu0BkO99PDZm8QLpJDALrXr1AEFg5tMgkvkBmZmZmpuq+QLx0kxiEsL9AiUFg5TA7wEC0yHa+H57AQN9PjZcOAcFACtejcP1jwUA1XrpJ7MbBQGDl0CLbKcJAi2zn+8mMwkC28/3UuO/CQA==\",\"dtype\":\"float64\",\"shape\":[50]},\"right\":{\"__ndarray__\":\"eOkmMQi8aEAcWmQ737t4QL6fGi/djIJAbhKDwMq7iEAehetRuOqOQOf7qfHSjJJAPzVeukmklUCXbhKDwLuYQO+nxks305tAR+F6FK7qnkBQjZduEgGhQPyp8dLNjKJAqMZLN4kYpEBU46WbRKSlQAAAAAAAMKdArBxaZLu7qEBYObTIdkeqQARWDi0y06tAsHJoke1erUBcj8L1qOquQARWDi0yO7BAWmQ73w8BsUCwcmiR7caxQAaBlUPLjLJAXI/C9ahSs0Cyne+nhhi0QAisHFpk3rRAXrpJDEKktUC0yHa+H2q2QArXo3D9L7dAYOXQItv1t0C28/3UuLu4QAwCK4eWgblAYhBYOXRHukC4HoXrUQ27QA4tsp0v07tAZDvfTw2ZvEC6SQwC6169QBBYObTIJL5AZmZmZqbqvkC8dJMYhLC/QIlBYOUwO8BAtMh2vh+ewEDfT42XDgHBQArXo3D9Y8FANV66SezGwUBg5dAi2ynCQIts5/vJjMJAtvP91LjvwkDhehSup1LDQA==\",\"dtype\":\"float64\",\"shape\":[50]},\"top\":[1996743,116,43,24,20,57,5,5,4,3,18,6,2,1,2,21,5,7,4,2,16,3,7,1,3,13,3,1,2,1,11,0,2,11,0,19,0,0,0,0,10,0,0,1,1,15,1,0,1,1]},\"selected\":{\"id\":\"1053\",\"type\":\"Selection\"},\"selection_policy\":{\"id\":\"1052\",\"type\":\"UnionRenderers\"}},\"id\":\"1002\",\"type\":\"ColumnDataSource\"},{\"attributes\":{},\"id\":\"1024\",\"type\":\"WheelZoomTool\"},{\"attributes\":{\"overlay\":{\"id\":\"1029\",\"type\":\"BoxAnnotation\"}},\"id\":\"1023\",\"type\":\"BoxZoomTool\"}],\"root_ids\":[\"1003\"]},\"title\":\"Bokeh Application\",\"version\":\"1.0.4\"}};\n",
       "  var render_items = [{\"docid\":\"ed09aa57-f1be-41c8-8fff-f0f2affb503f\",\"roots\":{\"1003\":\"8710a859-5f41-4a51-81e3-46d0dda77357\"}}];\n",
       "  root.Bokeh.embed.embed_items_notebook(docs_json, render_items);\n",
       "\n",
       "  }\n",
       "  if (root.Bokeh !== undefined) {\n",
       "    embed_document(root);\n",
       "  } else {\n",
       "    var attempts = 0;\n",
       "    var timer = setInterval(function(root) {\n",
       "      if (root.Bokeh !== undefined) {\n",
       "        embed_document(root);\n",
       "        clearInterval(timer);\n",
       "      }\n",
       "      attempts++;\n",
       "      if (attempts > 100) {\n",
       "        console.log(\"Bokeh: ERROR: Unable to run BokehJS code because BokehJS library is missing\");\n",
       "        clearInterval(timer);\n",
       "      }\n",
       "    }, 10, root)\n",
       "  }\n",
       "})(window);"
      ],
      "application/vnd.bokehjs_exec.v0+json": ""
     },
     "metadata": {
      "application/vnd.bokehjs_exec.v0+json": {
       "id": "1003"
      }
     },
     "output_type": "display_data"
    }
   ],
   "source": [
    "CreateHistogram(df, 'trip_total')"
   ]
  },
  {
   "cell_type": "markdown",
   "metadata": {},
   "source": [
    "#### 4.3b Interact with the plot you created in 4.3a. What are the values of the left edge, right edge, and height of the highest bar? What do these mean?"
   ]
  },
  {
   "cell_type": "markdown",
   "metadata": {},
   "source": [
    "The value of the left edge is 0.01, the value of the right edge is 197.88, the value of the height is 1996743.  \n",
    "This means there are 1996743 data distributed in the range of 0.01-197.88 total trip."
   ]
  },
  {
   "cell_type": "markdown",
   "metadata": {},
   "source": [
    "#### 4.3c Interact with the plot you created in 4.3a. What are the values of the left edge, right edge, and height of the _second_ highest bar? You will need to zoom in to see this bar."
   ]
  },
  {
   "cell_type": "markdown",
   "metadata": {},
   "source": [
    "The value of the left edge is 197.88, the value of the right edge is 395.74, the value of the height is 116."
   ]
  },
  {
   "cell_type": "markdown",
   "metadata": {},
   "source": [
    "#### 4.3d Interpret the histogram you created in 4.3a. What, if anything, do you learn from it?"
   ]
  },
  {
   "cell_type": "markdown",
   "metadata": {},
   "source": [
    "The vast majority of the data distributed in the range of 0.01-197.88 total trip. The visual effect of this hitogram is not good, because it has too many outliers."
   ]
  },
  {
   "cell_type": "markdown",
   "metadata": {},
   "source": [
    "#### 4.3e Recreate the histogram from 4.3a, but this time, only plot values of `trip_total` less than \\$200.00, which the approximate value of the right edge of the first bin. Describe this histogram. What do you learn from it?"
   ]
  },
  {
   "cell_type": "code",
   "execution_count": 13,
   "metadata": {},
   "outputs": [
    {
     "data": {
      "text/html": [
       "\n",
       "\n",
       "\n",
       "\n",
       "\n",
       "\n",
       "  <div class=\"bk-root\" id=\"a1cb9bb7-620d-4da8-88b4-ed71d204c3ad\" data-root-id=\"1109\"></div>\n"
      ]
     },
     "metadata": {},
     "output_type": "display_data"
    },
    {
     "data": {
      "application/javascript": [
       "(function(root) {\n",
       "  function embed_document(root) {\n",
       "    \n",
       "  var docs_json = {\"bfb243e9-d25d-406f-baa7-1b819f6d8149\":{\"roots\":{\"references\":[{\"attributes\":{\"background_fill_color\":{\"value\":\"#fafafa\"},\"below\":[{\"id\":\"1118\",\"type\":\"LinearAxis\"}],\"left\":[{\"id\":\"1123\",\"type\":\"LinearAxis\"}],\"plot_height\":400,\"plot_width\":400,\"renderers\":[{\"id\":\"1118\",\"type\":\"LinearAxis\"},{\"id\":\"1122\",\"type\":\"Grid\"},{\"id\":\"1123\",\"type\":\"LinearAxis\"},{\"id\":\"1127\",\"type\":\"Grid\"},{\"id\":\"1135\",\"type\":\"BoxAnnotation\"},{\"id\":\"1147\",\"type\":\"GlyphRenderer\"}],\"title\":{\"id\":\"1161\",\"type\":\"Title\"},\"toolbar\":{\"id\":\"1134\",\"type\":\"Toolbar\"},\"x_range\":{\"id\":\"1110\",\"type\":\"DataRange1d\"},\"x_scale\":{\"id\":\"1114\",\"type\":\"LinearScale\"},\"y_range\":{\"id\":\"1112\",\"type\":\"DataRange1d\"},\"y_scale\":{\"id\":\"1116\",\"type\":\"LinearScale\"}},\"id\":\"1109\",\"subtype\":\"Figure\",\"type\":\"Plot\"},{\"attributes\":{\"axis_label\":\"trip_total\",\"formatter\":{\"id\":\"1162\",\"type\":\"BasicTickFormatter\"},\"plot\":{\"id\":\"1109\",\"subtype\":\"Figure\",\"type\":\"Plot\"},\"ticker\":{\"id\":\"1119\",\"type\":\"BasicTicker\"}},\"id\":\"1118\",\"type\":\"LinearAxis\"},{\"attributes\":{},\"id\":\"1130\",\"type\":\"WheelZoomTool\"},{\"attributes\":{},\"id\":\"1116\",\"type\":\"LinearScale\"},{\"attributes\":{},\"id\":\"1131\",\"type\":\"UndoTool\"},{\"attributes\":{\"bottom\":{\"field\":\"bottom\"},\"fill_alpha\":{\"value\":0.1},\"fill_color\":{\"value\":\"#1f77b4\"},\"left\":{\"field\":\"left\"},\"line_alpha\":{\"value\":0.1},\"line_color\":{\"value\":\"#1f77b4\"},\"right\":{\"field\":\"right\"},\"top\":{\"field\":\"top\"}},\"id\":\"1145\",\"type\":\"Quad\"},{\"attributes\":{\"callback\":null,\"start\":0},\"id\":\"1112\",\"type\":\"DataRange1d\"},{\"attributes\":{},\"id\":\"1132\",\"type\":\"ResetTool\"},{\"attributes\":{\"callback\":null,\"data\":{\"bottom\":{\"__ndarray__\":\"AAAAAAAAAAAAAAAAAAAAAAAAAAAAAAAAAAAAAAAAAAAAAAAAAAAAAAAAAAAAAAAAAAAAAAAAAAAAAAAAAAAAAAAAAAAAAAAAAAAAAAAAAAAAAAAAAAAAAAAAAAAAAAAAAAAAAAAAAAAAAAAAAAAAAAAAAAAAAAAAAAAAAAAAAAAAAAAAAAAAAAAAAAAAAAAAAAAAAAAAAAAAAAAAAAAAAAAAAAAAAAAAAAAAAAAAAAAAAAAAAAAAAAAAAAAAAAAAAAAAAAAAAAAAAAAAAAAAAAAAAAAAAAAAAAAAAAAAAAAAAAAAAAAAAAAAAAAAAAAAAAAAAAAAAAAAAAAAAAAAAAAAAAAAAAAAAAAAAAAAAAAAAAAAAAAAAAAAAAAAAAAAAAAAAAAAAAAAAAAAAAAAAAAAAAAAAAAAAAAAAAAAAAAAAAAAAAAAAAAAAAAAAAAAAAAAAAAAAAAAAAAAAAAAAAAAAAAAAAAAAAAAAAAAAAAAAAAAAAAAAAAAAAAAAAAAAAAAAAAAAAAAAAAAAAAAAA==\",\"dtype\":\"float64\",\"shape\":[50]},\"left\":{\"__ndarray__\":\"exSuR+F6hD+30QDeAgkQQDLmriXkAyBAiWNd3EYDKEBw8IXJVAEwQBsv3SQGATRAx200gLcAOEByrIvbaAA8QI51cRsNAEBA5BQdyeX/QUA5tMh2vv9DQI9TdCSX/0VA5fIf0m//R0A6kst/SP9JQJAxdy0h/0tA5dAi2/n+TUA7cM6I0v5PQMkHPZtV/1BAdNcS8kH/UUAep+hILv9SQMl2vp8a/1NAdEaU9gb/VEAfFmpN8/5VQMrlP6Tf/lZAdbUV+8v+V0AfhetRuP5YQMpUwaik/llAdSSX/5D+WkAg9GxWff5bQMvDQq1p/lxAdZMYBFb+XUAgY+5aQv5eQMsyxLEu/l9AOgFNhA1/YEAQ6bevA/9gQOXQItv5fmFAu7iNBvD+YUCQoPgx5n5iQGWIY13c/mJAO3DOiNJ+Y0AQWDm0yP5jQOY/pN++fmRAuycPC7X+ZECQD3o2q35lQGb35GGh/mVAO99PjZd+ZkARx7q4jf5mQOauJeSDfmdAvJaQD3r+Z0CRfvs6cH5oQA==\",\"dtype\":\"float64\",\"shape\":[50]},\"right\":{\"__ndarray__\":\"t9EA3gIJEEAy5q4l5AMgQIljXdxGAyhAcPCFyVQBMEAbL90kBgE0QMdtNIC3ADhAcqyL22gAPECOdXEbDQBAQOQUHcnl/0FAObTIdr7/Q0CPU3Qkl/9FQOXyH9Jv/0dAOpLLf0j/SUCQMXctIf9LQOXQItv5/k1AO3DOiNL+T0DJBz2bVf9QQHTXEvJB/1FAHqfoSC7/UkDJdr6fGv9TQHRGlPYG/1RAHxZqTfP+VUDK5T+k3/5WQHW1FfvL/ldAH4XrUbj+WEDKVMGopP5ZQHUkl/+Q/lpAIPRsVn3+W0DLw0Ktaf5cQHWTGARW/l1AIGPuWkL+XkDLMsSxLv5fQDoBTYQNf2BAEOm3rwP/YEDl0CLb+X5hQLu4jQbw/mFAkKD4MeZ+YkBliGNd3P5iQDtwzojSfmNAEFg5tMj+Y0DmP6Tfvn5kQLsnDwu1/mRAkA96Nqt+ZUBm9+Rhof5lQDvfT42XfmZAEce6uI3+ZkDmriXkg35nQLyWkA96/mdAkX77OnB+aEBmZmZmZv5oQA==\",\"dtype\":\"float64\",\"shape\":[50]},\"top\":[59929,695264,576523,238710,107216,50960,28343,25486,28244,41426,34831,38705,24820,14474,11539,6767,3270,2100,1588,1197,1002,752,615,503,401,405,208,251,186,148,154,103,97,89,67,58,49,43,47,36,21,16,27,15,17,17,7,6,8,7]},\"selected\":{\"id\":\"1168\",\"type\":\"Selection\"},\"selection_policy\":{\"id\":\"1167\",\"type\":\"UnionRenderers\"}},\"id\":\"1108\",\"type\":\"ColumnDataSource\"},{\"attributes\":{},\"id\":\"1133\",\"type\":\"SaveTool\"},{\"attributes\":{},\"id\":\"1114\",\"type\":\"LinearScale\"},{\"attributes\":{\"overlay\":{\"id\":\"1135\",\"type\":\"BoxAnnotation\"}},\"id\":\"1129\",\"type\":\"BoxZoomTool\"},{\"attributes\":{\"bottom_units\":\"screen\",\"fill_alpha\":{\"value\":0.5},\"fill_color\":{\"value\":\"lightgrey\"},\"left_units\":\"screen\",\"level\":\"overlay\",\"line_alpha\":{\"value\":1.0},\"line_color\":{\"value\":\"black\"},\"line_dash\":[4,4],\"line_width\":{\"value\":2},\"plot\":null,\"render_mode\":\"css\",\"right_units\":\"screen\",\"top_units\":\"screen\"},\"id\":\"1135\",\"type\":\"BoxAnnotation\"},{\"attributes\":{},\"id\":\"1128\",\"type\":\"PanTool\"},{\"attributes\":{\"active_drag\":\"auto\",\"active_inspect\":\"auto\",\"active_multi\":null,\"active_scroll\":\"auto\",\"active_tap\":\"auto\",\"tools\":[{\"id\":\"1128\",\"type\":\"PanTool\"},{\"id\":\"1129\",\"type\":\"BoxZoomTool\"},{\"id\":\"1130\",\"type\":\"WheelZoomTool\"},{\"id\":\"1131\",\"type\":\"UndoTool\"},{\"id\":\"1132\",\"type\":\"ResetTool\"},{\"id\":\"1133\",\"type\":\"SaveTool\"},{\"id\":\"1149\",\"type\":\"HoverTool\"}]},\"id\":\"1134\",\"type\":\"Toolbar\"},{\"attributes\":{\"callback\":null,\"tooltips\":[[\"Left edge\",\"@left{0,0.00}\"],[\"Right edge\",\"@right{0,0.00}\"],[\"Height\",\"@top{0,0}\"]]},\"id\":\"1149\",\"type\":\"HoverTool\"},{\"attributes\":{\"callback\":null},\"id\":\"1110\",\"type\":\"DataRange1d\"},{\"attributes\":{\"source\":{\"id\":\"1108\",\"type\":\"ColumnDataSource\"}},\"id\":\"1148\",\"type\":\"CDSView\"},{\"attributes\":{\"data_source\":{\"id\":\"1108\",\"type\":\"ColumnDataSource\"},\"glyph\":{\"id\":\"1144\",\"type\":\"Quad\"},\"hover_glyph\":{\"id\":\"1146\",\"type\":\"Quad\"},\"muted_glyph\":null,\"nonselection_glyph\":{\"id\":\"1145\",\"type\":\"Quad\"},\"selection_glyph\":null,\"view\":{\"id\":\"1148\",\"type\":\"CDSView\"}},\"id\":\"1147\",\"type\":\"GlyphRenderer\"},{\"attributes\":{\"bottom\":{\"field\":\"bottom\"},\"fill_color\":{\"value\":\"firebrick\"},\"left\":{\"field\":\"left\"},\"line_color\":{\"value\":\"white\"},\"right\":{\"field\":\"right\"},\"top\":{\"field\":\"top\"}},\"id\":\"1146\",\"type\":\"Quad\"},{\"attributes\":{\"plot\":null,\"text\":\"\"},\"id\":\"1161\",\"type\":\"Title\"},{\"attributes\":{},\"id\":\"1119\",\"type\":\"BasicTicker\"},{\"attributes\":{},\"id\":\"1162\",\"type\":\"BasicTickFormatter\"},{\"attributes\":{},\"id\":\"1168\",\"type\":\"Selection\"},{\"attributes\":{},\"id\":\"1167\",\"type\":\"UnionRenderers\"},{\"attributes\":{\"bottom\":{\"field\":\"bottom\"},\"fill_alpha\":{\"value\":0.5},\"fill_color\":{\"value\":\"navy\"},\"left\":{\"field\":\"left\"},\"line_alpha\":{\"value\":0.5},\"line_color\":{\"value\":\"white\"},\"right\":{\"field\":\"right\"},\"top\":{\"field\":\"top\"}},\"id\":\"1144\",\"type\":\"Quad\"},{\"attributes\":{\"grid_line_color\":{\"value\":\"white\"},\"plot\":{\"id\":\"1109\",\"subtype\":\"Figure\",\"type\":\"Plot\"},\"ticker\":{\"id\":\"1119\",\"type\":\"BasicTicker\"}},\"id\":\"1122\",\"type\":\"Grid\"},{\"attributes\":{},\"id\":\"1164\",\"type\":\"BasicTickFormatter\"},{\"attributes\":{\"dimension\":1,\"grid_line_color\":{\"value\":\"white\"},\"plot\":{\"id\":\"1109\",\"subtype\":\"Figure\",\"type\":\"Plot\"},\"ticker\":{\"id\":\"1124\",\"type\":\"BasicTicker\"}},\"id\":\"1127\",\"type\":\"Grid\"},{\"attributes\":{\"axis_label\":\"Count\",\"formatter\":{\"id\":\"1164\",\"type\":\"BasicTickFormatter\"},\"plot\":{\"id\":\"1109\",\"subtype\":\"Figure\",\"type\":\"Plot\"},\"ticker\":{\"id\":\"1124\",\"type\":\"BasicTicker\"}},\"id\":\"1123\",\"type\":\"LinearAxis\"},{\"attributes\":{},\"id\":\"1124\",\"type\":\"BasicTicker\"}],\"root_ids\":[\"1109\"]},\"title\":\"Bokeh Application\",\"version\":\"1.0.4\"}};\n",
       "  var render_items = [{\"docid\":\"bfb243e9-d25d-406f-baa7-1b819f6d8149\",\"roots\":{\"1109\":\"a1cb9bb7-620d-4da8-88b4-ed71d204c3ad\"}}];\n",
       "  root.Bokeh.embed.embed_items_notebook(docs_json, render_items);\n",
       "\n",
       "  }\n",
       "  if (root.Bokeh !== undefined) {\n",
       "    embed_document(root);\n",
       "  } else {\n",
       "    var attempts = 0;\n",
       "    var timer = setInterval(function(root) {\n",
       "      if (root.Bokeh !== undefined) {\n",
       "        embed_document(root);\n",
       "        clearInterval(timer);\n",
       "      }\n",
       "      attempts++;\n",
       "      if (attempts > 100) {\n",
       "        console.log(\"Bokeh: ERROR: Unable to run BokehJS code because BokehJS library is missing\");\n",
       "        clearInterval(timer);\n",
       "      }\n",
       "    }, 10, root)\n",
       "  }\n",
       "})(window);"
      ],
      "application/vnd.bokehjs_exec.v0+json": ""
     },
     "metadata": {
      "application/vnd.bokehjs_exec.v0+json": {
       "id": "1109"
      }
     },
     "output_type": "display_data"
    }
   ],
   "source": [
    "CreateHistogram(df.loc[df.trip_total<200], 'trip_total')"
   ]
  },
  {
   "cell_type": "markdown",
   "metadata": {},
   "source": [
    "There are 695264 data distributed in the range of 4.01-8.01 total trip, and 576523 data distributed in the range of 8.01-12.01. The majority of total tirps are in the range of 0.01-59.99. "
   ]
  },
  {
   "cell_type": "markdown",
   "metadata": {},
   "source": [
    "#### 4.3f Recreate the histogram from 4.3a, but this time, only plot values of `trip_total` less than \\$75.00, which the approximate value of the right edge of the first bin. Describe this histogram. What do you learn from it?"
   ]
  },
  {
   "cell_type": "code",
   "execution_count": 14,
   "metadata": {},
   "outputs": [
    {
     "data": {
      "text/html": [
       "\n",
       "\n",
       "\n",
       "\n",
       "\n",
       "\n",
       "  <div class=\"bk-root\" id=\"577ada9f-662c-4921-952d-0d1f7fc7c14f\" data-root-id=\"1224\"></div>\n"
      ]
     },
     "metadata": {},
     "output_type": "display_data"
    },
    {
     "data": {
      "application/javascript": [
       "(function(root) {\n",
       "  function embed_document(root) {\n",
       "    \n",
       "  var docs_json = {\"ac5a165c-9263-43ee-9c32-5485899451a1\":{\"roots\":{\"references\":[{\"attributes\":{\"background_fill_color\":{\"value\":\"#fafafa\"},\"below\":[{\"id\":\"1233\",\"type\":\"LinearAxis\"}],\"left\":[{\"id\":\"1238\",\"type\":\"LinearAxis\"}],\"plot_height\":400,\"plot_width\":400,\"renderers\":[{\"id\":\"1233\",\"type\":\"LinearAxis\"},{\"id\":\"1237\",\"type\":\"Grid\"},{\"id\":\"1238\",\"type\":\"LinearAxis\"},{\"id\":\"1242\",\"type\":\"Grid\"},{\"id\":\"1250\",\"type\":\"BoxAnnotation\"},{\"id\":\"1262\",\"type\":\"GlyphRenderer\"}],\"title\":{\"id\":\"1285\",\"type\":\"Title\"},\"toolbar\":{\"id\":\"1249\",\"type\":\"Toolbar\"},\"x_range\":{\"id\":\"1225\",\"type\":\"DataRange1d\"},\"x_scale\":{\"id\":\"1229\",\"type\":\"LinearScale\"},\"y_range\":{\"id\":\"1227\",\"type\":\"DataRange1d\"},\"y_scale\":{\"id\":\"1231\",\"type\":\"LinearScale\"}},\"id\":\"1224\",\"subtype\":\"Figure\",\"type\":\"Plot\"},{\"attributes\":{},\"id\":\"1231\",\"type\":\"LinearScale\"},{\"attributes\":{\"data_source\":{\"id\":\"1223\",\"type\":\"ColumnDataSource\"},\"glyph\":{\"id\":\"1259\",\"type\":\"Quad\"},\"hover_glyph\":{\"id\":\"1261\",\"type\":\"Quad\"},\"muted_glyph\":null,\"nonselection_glyph\":{\"id\":\"1260\",\"type\":\"Quad\"},\"selection_glyph\":null,\"view\":{\"id\":\"1263\",\"type\":\"CDSView\"}},\"id\":\"1262\",\"type\":\"GlyphRenderer\"},{\"attributes\":{\"axis_label\":\"trip_total\",\"formatter\":{\"id\":\"1286\",\"type\":\"BasicTickFormatter\"},\"plot\":{\"id\":\"1224\",\"subtype\":\"Figure\",\"type\":\"Plot\"},\"ticker\":{\"id\":\"1234\",\"type\":\"BasicTicker\"}},\"id\":\"1233\",\"type\":\"LinearAxis\"},{\"attributes\":{\"source\":{\"id\":\"1223\",\"type\":\"ColumnDataSource\"}},\"id\":\"1263\",\"type\":\"CDSView\"},{\"attributes\":{},\"id\":\"1234\",\"type\":\"BasicTicker\"},{\"attributes\":{\"callback\":null,\"tooltips\":[[\"Left edge\",\"@left{0,0.00}\"],[\"Right edge\",\"@right{0,0.00}\"],[\"Height\",\"@top{0,0}\"]]},\"id\":\"1264\",\"type\":\"HoverTool\"},{\"attributes\":{\"grid_line_color\":{\"value\":\"white\"},\"plot\":{\"id\":\"1224\",\"subtype\":\"Figure\",\"type\":\"Plot\"},\"ticker\":{\"id\":\"1234\",\"type\":\"BasicTicker\"}},\"id\":\"1237\",\"type\":\"Grid\"},{\"attributes\":{\"plot\":null,\"text\":\"\"},\"id\":\"1285\",\"type\":\"Title\"},{\"attributes\":{\"axis_label\":\"Count\",\"formatter\":{\"id\":\"1288\",\"type\":\"BasicTickFormatter\"},\"plot\":{\"id\":\"1224\",\"subtype\":\"Figure\",\"type\":\"Plot\"},\"ticker\":{\"id\":\"1239\",\"type\":\"BasicTicker\"}},\"id\":\"1238\",\"type\":\"LinearAxis\"},{\"attributes\":{},\"id\":\"1286\",\"type\":\"BasicTickFormatter\"},{\"attributes\":{},\"id\":\"1229\",\"type\":\"LinearScale\"},{\"attributes\":{},\"id\":\"1239\",\"type\":\"BasicTicker\"},{\"attributes\":{},\"id\":\"1288\",\"type\":\"BasicTickFormatter\"},{\"attributes\":{\"dimension\":1,\"grid_line_color\":{\"value\":\"white\"},\"plot\":{\"id\":\"1224\",\"subtype\":\"Figure\",\"type\":\"Plot\"},\"ticker\":{\"id\":\"1239\",\"type\":\"BasicTicker\"}},\"id\":\"1242\",\"type\":\"Grid\"},{\"attributes\":{},\"id\":\"1291\",\"type\":\"UnionRenderers\"},{\"attributes\":{\"bottom\":{\"field\":\"bottom\"},\"fill_alpha\":{\"value\":0.1},\"fill_color\":{\"value\":\"#1f77b4\"},\"left\":{\"field\":\"left\"},\"line_alpha\":{\"value\":0.1},\"line_color\":{\"value\":\"#1f77b4\"},\"right\":{\"field\":\"right\"},\"top\":{\"field\":\"top\"}},\"id\":\"1260\",\"type\":\"Quad\"},{\"attributes\":{},\"id\":\"1292\",\"type\":\"Selection\"},{\"attributes\":{\"bottom\":{\"field\":\"bottom\"},\"fill_alpha\":{\"value\":0.5},\"fill_color\":{\"value\":\"navy\"},\"left\":{\"field\":\"left\"},\"line_alpha\":{\"value\":0.5},\"line_color\":{\"value\":\"white\"},\"right\":{\"field\":\"right\"},\"top\":{\"field\":\"top\"}},\"id\":\"1259\",\"type\":\"Quad\"},{\"attributes\":{\"active_drag\":\"auto\",\"active_inspect\":\"auto\",\"active_multi\":null,\"active_scroll\":\"auto\",\"active_tap\":\"auto\",\"tools\":[{\"id\":\"1243\",\"type\":\"PanTool\"},{\"id\":\"1244\",\"type\":\"BoxZoomTool\"},{\"id\":\"1245\",\"type\":\"WheelZoomTool\"},{\"id\":\"1246\",\"type\":\"UndoTool\"},{\"id\":\"1247\",\"type\":\"ResetTool\"},{\"id\":\"1248\",\"type\":\"SaveTool\"},{\"id\":\"1264\",\"type\":\"HoverTool\"}]},\"id\":\"1249\",\"type\":\"Toolbar\"},{\"attributes\":{\"callback\":null,\"start\":0},\"id\":\"1227\",\"type\":\"DataRange1d\"},{\"attributes\":{},\"id\":\"1243\",\"type\":\"PanTool\"},{\"attributes\":{\"callback\":null},\"id\":\"1225\",\"type\":\"DataRange1d\"},{\"attributes\":{\"overlay\":{\"id\":\"1250\",\"type\":\"BoxAnnotation\"}},\"id\":\"1244\",\"type\":\"BoxZoomTool\"},{\"attributes\":{},\"id\":\"1245\",\"type\":\"WheelZoomTool\"},{\"attributes\":{\"callback\":null,\"data\":{\"bottom\":{\"__ndarray__\":\"AAAAAAAAAAAAAAAAAAAAAAAAAAAAAAAAAAAAAAAAAAAAAAAAAAAAAAAAAAAAAAAAAAAAAAAAAAAAAAAAAAAAAAAAAAAAAAAAAAAAAAAAAAAAAAAAAAAAAAAAAAAAAAAAAAAAAAAAAAAAAAAAAAAAAAAAAAAAAAAAAAAAAAAAAAAAAAAAAAAAAAAAAAAAAAAAAAAAAAAAAAAAAAAAAAAAAAAAAAAAAAAAAAAAAAAAAAAAAAAAAAAAAAAAAAAAAAAAAAAAAAAAAAAAAAAAAAAAAAAAAAAAAAAAAAAAAAAAAAAAAAAAAAAAAAAAAAAAAAAAAAAAAAAAAAAAAAAAAAAAAAAAAAAAAAAAAAAAAAAAAAAAAAAAAAAAAAAAAAAAAAAAAAAAAAAAAAAAAAAAAAAAAAAAAAAAAAAAAAAAAAAAAAAAAAAAAAAAAAAAAAAAAAAAAAAAAAAAAAAAAAAAAAAAAAAAAAAAAAAAAAAAAAAAAAAAAAAAAAAAAAAAAAAAAAAAAAAAAAAAAAAAAAAAAAAAAA==\",\"dtype\":\"float64\",\"shape\":[50]},\"left\":{\"__ndarray__\":\"exSuR+F6hD/cRgN4CyT4P8eYu5aQDwhAEMe6uI0GEkC9wRcmUwUYQGq8dJMYBB5Ai9toAG8BIkDiWBe30QAlQDjWxW00AChAjlN0JJf/KkDl0CLb+f4tQB6n6EgufzBAyeU/pN/+MUB0JJf/kH4zQCBj7lpC/jRAy6FFtvN9NkB24JwRpf03QCEf9GxWfTlAzF1LyAf9OkB4nKIjuXw8QCPb+X5q/D1AzhlR2ht8P0A8LNSa5n1AQJLLf0i/PUFA52or9pf9QUA9CtejcL1CQJKpglFJfUNA6Egu/yE9REA+6Nms+vxEQJOHhVrTvEVA6SYxCKx8RkA+xty1hDxHQJRliGNd/EdA6gQ0ETa8SEA/pN++DnxJQJVDi2znO0pA6uI2GsD7SkBAguLHmLtLQJYhjnVxe0xA68A5I0o7TUBBYOXQIvtNQJb/kH77uk5A7J48LNR6T0AhH/RsVh1QQMzuycNCfVBAd76fGi/dUEAijnVxGz1RQMxdS8gHnVFAdy0hH/T8UUAi/fZ14FxSQA==\",\"dtype\":\"float64\",\"shape\":[50]},\"right\":{\"__ndarray__\":\"3EYDeAsk+D/HmLuWkA8IQBDHuriNBhJAvcEXJlMFGEBqvHSTGAQeQIvbaABvASJA4lgXt9EAJUA41sVtNAAoQI5TdCSX/ypA5dAi2/n+LUAep+hILn8wQMnlP6Tf/jFAdCSX/5B+M0AgY+5aQv40QMuhRbbzfTZAduCcEaX9N0AhH/RsVn05QMxdS8gH/TpAeJyiI7l8PEAj2/l+avw9QM4ZUdobfD9APCzUmuZ9QECSy39Ivz1BQOdqK/aX/UFAPQrXo3C9QkCSqYJRSX1DQOhILv8hPURAPujZrPr8RECTh4Va07xFQOkmMQisfEZAPsbctYQ8R0CUZYhjXfxHQOoENBE2vEhAP6Tfvg58SUCVQ4ts5ztKQOriNhrA+0pAQILix5i7S0CWIY51cXtMQOvAOSNKO01AQWDl0CL7TUCW/5B++7pOQOyePCzUek9AIR/0bFYdUEDM7snDQn1QQHe+nxov3VBAIo51cRs9UUDMXUvIB51RQHctIR/0/FFAIv32deBcUkDNzMzMzLxSQA==\",\"dtype\":\"float64\",\"shape\":[50]},\"top\":[382,289,98206,223777,338347,287388,232529,150798,112347,80523,63624,43930,34964,26445,19797,14620,12600,9902,9330,9020,10315,9708,10765,11069,14366,16245,16606,12283,12247,13990,15568,13657,11411,8871,6416,5488,5313,4945,4467,3922,3425,2220,1656,1336,1085,865,858,692,619,596]},\"selected\":{\"id\":\"1292\",\"type\":\"Selection\"},\"selection_policy\":{\"id\":\"1291\",\"type\":\"UnionRenderers\"}},\"id\":\"1223\",\"type\":\"ColumnDataSource\"},{\"attributes\":{},\"id\":\"1246\",\"type\":\"UndoTool\"},{\"attributes\":{},\"id\":\"1247\",\"type\":\"ResetTool\"},{\"attributes\":{},\"id\":\"1248\",\"type\":\"SaveTool\"},{\"attributes\":{\"bottom_units\":\"screen\",\"fill_alpha\":{\"value\":0.5},\"fill_color\":{\"value\":\"lightgrey\"},\"left_units\":\"screen\",\"level\":\"overlay\",\"line_alpha\":{\"value\":1.0},\"line_color\":{\"value\":\"black\"},\"line_dash\":[4,4],\"line_width\":{\"value\":2},\"plot\":null,\"render_mode\":\"css\",\"right_units\":\"screen\",\"top_units\":\"screen\"},\"id\":\"1250\",\"type\":\"BoxAnnotation\"},{\"attributes\":{\"bottom\":{\"field\":\"bottom\"},\"fill_color\":{\"value\":\"firebrick\"},\"left\":{\"field\":\"left\"},\"line_color\":{\"value\":\"white\"},\"right\":{\"field\":\"right\"},\"top\":{\"field\":\"top\"}},\"id\":\"1261\",\"type\":\"Quad\"}],\"root_ids\":[\"1224\"]},\"title\":\"Bokeh Application\",\"version\":\"1.0.4\"}};\n",
       "  var render_items = [{\"docid\":\"ac5a165c-9263-43ee-9c32-5485899451a1\",\"roots\":{\"1224\":\"577ada9f-662c-4921-952d-0d1f7fc7c14f\"}}];\n",
       "  root.Bokeh.embed.embed_items_notebook(docs_json, render_items);\n",
       "\n",
       "  }\n",
       "  if (root.Bokeh !== undefined) {\n",
       "    embed_document(root);\n",
       "  } else {\n",
       "    var attempts = 0;\n",
       "    var timer = setInterval(function(root) {\n",
       "      if (root.Bokeh !== undefined) {\n",
       "        embed_document(root);\n",
       "        clearInterval(timer);\n",
       "      }\n",
       "      attempts++;\n",
       "      if (attempts > 100) {\n",
       "        console.log(\"Bokeh: ERROR: Unable to run BokehJS code because BokehJS library is missing\");\n",
       "        clearInterval(timer);\n",
       "      }\n",
       "    }, 10, root)\n",
       "  }\n",
       "})(window);"
      ],
      "application/vnd.bokehjs_exec.v0+json": ""
     },
     "metadata": {
      "application/vnd.bokehjs_exec.v0+json": {
       "id": "1224"
      }
     },
     "output_type": "display_data"
    }
   ],
   "source": [
    "CreateHistogram(df.loc[df.trip_total<75], 'trip_total')"
   ]
  },
  {
   "cell_type": "markdown",
   "metadata": {},
   "source": [
    "This histogram is cleaner and easier to identify. The most total trip distributed between 6.01-7.5, followed by 7.5-9.0. The majority of total tirps are in the range of 3.01-22.49."
   ]
  },
  {
   "cell_type": "markdown",
   "metadata": {},
   "source": [
    "#### 4.3g Compute the mean and median value of `trip_total` for trips under \\$75."
   ]
  },
  {
   "cell_type": "code",
   "execution_count": 15,
   "metadata": {},
   "outputs": [
    {
     "name": "stdout",
     "output_type": "stream",
     "text": [
      "mean: 13.722418970143421\n",
      "median: 9.25\n"
     ]
    }
   ],
   "source": [
    "df2=df.loc[df.trip_total<75]\n",
    "mean= np.mean(df2['trip_total'])\n",
    "median=np.median(df2['trip_total'])\n",
    "print('mean:',mean)\n",
    "print('median:',median)"
   ]
  },
  {
   "cell_type": "markdown",
   "metadata": {},
   "source": [
    "#### 4.3h Decide which values of trip_total you want to keep in this analysis, and which you want to exclude as outliers. Specify a range of values (i.e. a minimum and a maximum) that you want to use. Justify your choice. There is no correct answer."
   ]
  },
  {
   "cell_type": "markdown",
   "metadata": {},
   "source": [
    "I want to keep the values of trip_total bewteen 3-60. Because there is very little data outside this interval."
   ]
  },
  {
   "cell_type": "markdown",
   "metadata": {},
   "source": [
    "#### 4.3i Using the function `CreateHistogram`, create a histogram of the column `trip_seconds`. This histogram you create will look like the one you created in 4.3a and will be hard to interpret. Narrow the range of values and create another histogram. Continue to create new histograms until you have a meaningful one. Keep this most meaningful one."
   ]
  },
  {
   "cell_type": "code",
   "execution_count": 16,
   "metadata": {},
   "outputs": [
    {
     "data": {
      "text/html": [
       "\n",
       "\n",
       "\n",
       "\n",
       "\n",
       "\n",
       "  <div class=\"bk-root\" id=\"44520974-b9ca-4442-bd88-5dfd622893c1\" data-root-id=\"1348\"></div>\n"
      ]
     },
     "metadata": {},
     "output_type": "display_data"
    },
    {
     "data": {
      "application/javascript": [
       "(function(root) {\n",
       "  function embed_document(root) {\n",
       "    \n",
       "  var docs_json = {\"db80ee6a-20f7-4897-b94b-7dd4a460e9f5\":{\"roots\":{\"references\":[{\"attributes\":{\"background_fill_color\":{\"value\":\"#fafafa\"},\"below\":[{\"id\":\"1357\",\"type\":\"LinearAxis\"}],\"left\":[{\"id\":\"1362\",\"type\":\"LinearAxis\"}],\"plot_height\":400,\"plot_width\":400,\"renderers\":[{\"id\":\"1357\",\"type\":\"LinearAxis\"},{\"id\":\"1361\",\"type\":\"Grid\"},{\"id\":\"1362\",\"type\":\"LinearAxis\"},{\"id\":\"1366\",\"type\":\"Grid\"},{\"id\":\"1374\",\"type\":\"BoxAnnotation\"},{\"id\":\"1386\",\"type\":\"GlyphRenderer\"}],\"title\":{\"id\":\"1418\",\"type\":\"Title\"},\"toolbar\":{\"id\":\"1373\",\"type\":\"Toolbar\"},\"x_range\":{\"id\":\"1349\",\"type\":\"DataRange1d\"},\"x_scale\":{\"id\":\"1353\",\"type\":\"LinearScale\"},\"y_range\":{\"id\":\"1351\",\"type\":\"DataRange1d\"},\"y_scale\":{\"id\":\"1355\",\"type\":\"LinearScale\"}},\"id\":\"1348\",\"subtype\":\"Figure\",\"type\":\"Plot\"},{\"attributes\":{},\"id\":\"1369\",\"type\":\"WheelZoomTool\"},{\"attributes\":{\"callback\":null},\"id\":\"1349\",\"type\":\"DataRange1d\"},{\"attributes\":{},\"id\":\"1370\",\"type\":\"UndoTool\"},{\"attributes\":{},\"id\":\"1353\",\"type\":\"LinearScale\"},{\"attributes\":{\"callback\":null,\"start\":0},\"id\":\"1351\",\"type\":\"DataRange1d\"},{\"attributes\":{},\"id\":\"1371\",\"type\":\"ResetTool\"},{\"attributes\":{},\"id\":\"1372\",\"type\":\"SaveTool\"},{\"attributes\":{},\"id\":\"1355\",\"type\":\"LinearScale\"},{\"attributes\":{\"callback\":null,\"data\":{\"bottom\":{\"__ndarray__\":\"AAAAAAAAAAAAAAAAAAAAAAAAAAAAAAAAAAAAAAAAAAAAAAAAAAAAAAAAAAAAAAAAAAAAAAAAAAAAAAAAAAAAAAAAAAAAAAAAAAAAAAAAAAAAAAAAAAAAAAAAAAAAAAAAAAAAAAAAAAAAAAAAAAAAAAAAAAAAAAAAAAAAAAAAAAAAAAAAAAAAAAAAAAAAAAAAAAAAAAAAAAAAAAAAAAAAAAAAAAAAAAAAAAAAAAAAAAAAAAAAAAAAAAAAAAAAAAAAAAAAAAAAAAAAAAAAAAAAAAAAAAAAAAAAAAAAAAAAAAAAAAAAAAAAAAAAAAAAAAAAAAAAAAAAAAAAAAAAAAAAAAAAAAAAAAAAAAAAAAAAAAAAAAAAAAAAAAAAAAAAAAAAAAAAAAAAAAAAAAAAAAAAAAAAAAAAAAAAAAAAAAAAAAAAAAAAAAAAAAAAAAAAAAAAAAAAAAAAAAAAAAAAAAAAAAAAAAAAAAAAAAAAAAAAAAAAAAAAAAAAAAAAAAAAAAAAAAAAAAAAAAAAAAAAAAAAAA==\",\"dtype\":\"float64\",\"shape\":[50]},\"left\":{\"__ndarray__\":\"AAAAAAAAAABmZmZmZuZoQGZmZmZm5nhAzMzMzMysgkBmZmZmZuaIQAAAAAAAII9AzMzMzMyskkCZmZmZmcmVQGZmZmZm5phAMzMzMzMDnEAAAAAAACCfQGZmZmZmHqFAzMzMzMysokAzMzMzMzukQJmZmZmZyaVAAAAAAABYp0BmZmZmZuaoQMzMzMzMdKpAMzMzMzMDrECZmZmZmZGtQAAAAAAAIK9AMzMzMzNXsEBmZmZmZh6xQJmZmZmZ5bFAzMzMzMysskAAAAAAAHSzQDMzMzMzO7RAZmZmZmYCtUCZmZmZmcm1QMzMzMzMkLZAAAAAAABYt0AzMzMzMx+4QGZmZmZm5rhAmZmZmZmtuUDMzMzMzHS6QAAAAAAAPLtAMzMzMzMDvEBmZmZmZsq8QJmZmZmZkb1AzMzMzMxYvkAAAAAAACC/QDMzMzMz579AMzMzMzNXwEDNzMzMzLrAQGZmZmZmHsFAAAAAAACCwUCZmZmZmeXBQDMzMzMzScJAzMzMzMyswkBmZmZmZhDDQA==\",\"dtype\":\"float64\",\"shape\":[50]},\"right\":{\"__ndarray__\":\"ZmZmZmbmaEBmZmZmZuZ4QMzMzMzMrIJAZmZmZmbmiEAAAAAAACCPQMzMzMzMrJJAmZmZmZnJlUBmZmZmZuaYQDMzMzMzA5xAAAAAAAAgn0BmZmZmZh6hQMzMzMzMrKJAMzMzMzM7pECZmZmZmcmlQAAAAAAAWKdAZmZmZmbmqEDMzMzMzHSqQDMzMzMzA6xAmZmZmZmRrUAAAAAAACCvQDMzMzMzV7BAZmZmZmYesUCZmZmZmeWxQMzMzMzMrLJAAAAAAAB0s0AzMzMzMzu0QGZmZmZmArVAmZmZmZnJtUDMzMzMzJC2QAAAAAAAWLdAMzMzMzMfuEBmZmZmZua4QJmZmZmZrblAzMzMzMx0ukAAAAAAADy7QDMzMzMzA7xAZmZmZmbKvECZmZmZmZG9QMzMzMzMWL5AAAAAAAAgv0AzMzMzM+e/QDMzMzMzV8BAzczMzMy6wEBmZmZmZh7BQAAAAAAAgsFAmZmZmZnlwUAzMzMzM0nCQMzMzMzMrMJAZmZmZmYQw0AAAAAAAHTDQA==\",\"dtype\":\"float64\",\"shape\":[50]},\"top\":[204938,402174,406801,366668,162971,102810,96954,54143,40362,39543,22944,18570,19294,11461,9361,9995,5715,4570,4484,2583,1979,1984,1155,894,703,715,373,312,323,176,157,205,112,84,115,78,66,78,43,40,43,24,44,49,30,28,37,16,20,29]},\"selected\":{\"id\":\"1425\",\"type\":\"Selection\"},\"selection_policy\":{\"id\":\"1424\",\"type\":\"UnionRenderers\"}},\"id\":\"1347\",\"type\":\"ColumnDataSource\"},{\"attributes\":{\"axis_label\":\"trip_seconds\",\"formatter\":{\"id\":\"1419\",\"type\":\"BasicTickFormatter\"},\"plot\":{\"id\":\"1348\",\"subtype\":\"Figure\",\"type\":\"Plot\"},\"ticker\":{\"id\":\"1358\",\"type\":\"BasicTicker\"}},\"id\":\"1357\",\"type\":\"LinearAxis\"},{\"attributes\":{\"bottom_units\":\"screen\",\"fill_alpha\":{\"value\":0.5},\"fill_color\":{\"value\":\"lightgrey\"},\"left_units\":\"screen\",\"level\":\"overlay\",\"line_alpha\":{\"value\":1.0},\"line_color\":{\"value\":\"black\"},\"line_dash\":[4,4],\"line_width\":{\"value\":2},\"plot\":null,\"render_mode\":\"css\",\"right_units\":\"screen\",\"top_units\":\"screen\"},\"id\":\"1374\",\"type\":\"BoxAnnotation\"},{\"attributes\":{\"grid_line_color\":{\"value\":\"white\"},\"plot\":{\"id\":\"1348\",\"subtype\":\"Figure\",\"type\":\"Plot\"},\"ticker\":{\"id\":\"1358\",\"type\":\"BasicTicker\"}},\"id\":\"1361\",\"type\":\"Grid\"},{\"attributes\":{\"bottom\":{\"field\":\"bottom\"},\"fill_color\":{\"value\":\"firebrick\"},\"left\":{\"field\":\"left\"},\"line_color\":{\"value\":\"white\"},\"right\":{\"field\":\"right\"},\"top\":{\"field\":\"top\"}},\"id\":\"1385\",\"type\":\"Quad\"},{\"attributes\":{\"data_source\":{\"id\":\"1347\",\"type\":\"ColumnDataSource\"},\"glyph\":{\"id\":\"1383\",\"type\":\"Quad\"},\"hover_glyph\":{\"id\":\"1385\",\"type\":\"Quad\"},\"muted_glyph\":null,\"nonselection_glyph\":{\"id\":\"1384\",\"type\":\"Quad\"},\"selection_glyph\":null,\"view\":{\"id\":\"1387\",\"type\":\"CDSView\"}},\"id\":\"1386\",\"type\":\"GlyphRenderer\"},{\"attributes\":{\"source\":{\"id\":\"1347\",\"type\":\"ColumnDataSource\"}},\"id\":\"1387\",\"type\":\"CDSView\"},{\"attributes\":{\"callback\":null,\"tooltips\":[[\"Left edge\",\"@left{0,0.00}\"],[\"Right edge\",\"@right{0,0.00}\"],[\"Height\",\"@top{0,0}\"]]},\"id\":\"1388\",\"type\":\"HoverTool\"},{\"attributes\":{},\"id\":\"1358\",\"type\":\"BasicTicker\"},{\"attributes\":{\"axis_label\":\"Count\",\"formatter\":{\"id\":\"1421\",\"type\":\"BasicTickFormatter\"},\"plot\":{\"id\":\"1348\",\"subtype\":\"Figure\",\"type\":\"Plot\"},\"ticker\":{\"id\":\"1363\",\"type\":\"BasicTicker\"}},\"id\":\"1362\",\"type\":\"LinearAxis\"},{\"attributes\":{\"plot\":null,\"text\":\"\"},\"id\":\"1418\",\"type\":\"Title\"},{\"attributes\":{},\"id\":\"1363\",\"type\":\"BasicTicker\"},{\"attributes\":{},\"id\":\"1419\",\"type\":\"BasicTickFormatter\"},{\"attributes\":{\"dimension\":1,\"grid_line_color\":{\"value\":\"white\"},\"plot\":{\"id\":\"1348\",\"subtype\":\"Figure\",\"type\":\"Plot\"},\"ticker\":{\"id\":\"1363\",\"type\":\"BasicTicker\"}},\"id\":\"1366\",\"type\":\"Grid\"},{\"attributes\":{},\"id\":\"1421\",\"type\":\"BasicTickFormatter\"},{\"attributes\":{\"bottom\":{\"field\":\"bottom\"},\"fill_alpha\":{\"value\":0.1},\"fill_color\":{\"value\":\"#1f77b4\"},\"left\":{\"field\":\"left\"},\"line_alpha\":{\"value\":0.1},\"line_color\":{\"value\":\"#1f77b4\"},\"right\":{\"field\":\"right\"},\"top\":{\"field\":\"top\"}},\"id\":\"1384\",\"type\":\"Quad\"},{\"attributes\":{},\"id\":\"1424\",\"type\":\"UnionRenderers\"},{\"attributes\":{\"bottom\":{\"field\":\"bottom\"},\"fill_alpha\":{\"value\":0.5},\"fill_color\":{\"value\":\"navy\"},\"left\":{\"field\":\"left\"},\"line_alpha\":{\"value\":0.5},\"line_color\":{\"value\":\"white\"},\"right\":{\"field\":\"right\"},\"top\":{\"field\":\"top\"}},\"id\":\"1383\",\"type\":\"Quad\"},{\"attributes\":{},\"id\":\"1425\",\"type\":\"Selection\"},{\"attributes\":{\"active_drag\":\"auto\",\"active_inspect\":\"auto\",\"active_multi\":null,\"active_scroll\":\"auto\",\"active_tap\":\"auto\",\"tools\":[{\"id\":\"1367\",\"type\":\"PanTool\"},{\"id\":\"1368\",\"type\":\"BoxZoomTool\"},{\"id\":\"1369\",\"type\":\"WheelZoomTool\"},{\"id\":\"1370\",\"type\":\"UndoTool\"},{\"id\":\"1371\",\"type\":\"ResetTool\"},{\"id\":\"1372\",\"type\":\"SaveTool\"},{\"id\":\"1388\",\"type\":\"HoverTool\"}]},\"id\":\"1373\",\"type\":\"Toolbar\"},{\"attributes\":{},\"id\":\"1367\",\"type\":\"PanTool\"},{\"attributes\":{\"overlay\":{\"id\":\"1374\",\"type\":\"BoxAnnotation\"}},\"id\":\"1368\",\"type\":\"BoxZoomTool\"}],\"root_ids\":[\"1348\"]},\"title\":\"Bokeh Application\",\"version\":\"1.0.4\"}};\n",
       "  var render_items = [{\"docid\":\"db80ee6a-20f7-4897-b94b-7dd4a460e9f5\",\"roots\":{\"1348\":\"44520974-b9ca-4442-bd88-5dfd622893c1\"}}];\n",
       "  root.Bokeh.embed.embed_items_notebook(docs_json, render_items);\n",
       "\n",
       "  }\n",
       "  if (root.Bokeh !== undefined) {\n",
       "    embed_document(root);\n",
       "  } else {\n",
       "    var attempts = 0;\n",
       "    var timer = setInterval(function(root) {\n",
       "      if (root.Bokeh !== undefined) {\n",
       "        embed_document(root);\n",
       "        clearInterval(timer);\n",
       "      }\n",
       "      attempts++;\n",
       "      if (attempts > 100) {\n",
       "        console.log(\"Bokeh: ERROR: Unable to run BokehJS code because BokehJS library is missing\");\n",
       "        clearInterval(timer);\n",
       "      }\n",
       "    }, 10, root)\n",
       "  }\n",
       "})(window);"
      ],
      "application/vnd.bokehjs_exec.v0+json": ""
     },
     "metadata": {
      "application/vnd.bokehjs_exec.v0+json": {
       "id": "1348"
      }
     },
     "output_type": "display_data"
    }
   ],
   "source": [
    "data=CreateHistogram(df.loc[df.trip_seconds<10000], 'trip_seconds')"
   ]
  },
  {
   "cell_type": "markdown",
   "metadata": {},
   "source": [
    "#### 4.3j Interpret your final histogram for `trip_seconds`. Then state which range of this variable you want to keep in this analysis, and which you want to exclude as outliers. Specify a range of values (i.e. a minimum and a maximum). Justify your choice. There is no correct answer."
   ]
  },
  {
   "cell_type": "markdown",
   "metadata": {},
   "source": [
    "The most trip seconds distributed between 398.4-597.6, followed by 199.2-398.4. The majority of trip seconds are in the range of 0-2589.6. I want to keep the values of trip seconds bewteen 0-3200. Because there is very little data outside this interval. "
   ]
  },
  {
   "cell_type": "markdown",
   "metadata": {},
   "source": [
    "#### 4.3k What are the mean and median values of `trip_seconds` for trips less than one hour?"
   ]
  },
  {
   "cell_type": "code",
   "execution_count": 17,
   "metadata": {},
   "outputs": [
    {
     "name": "stdout",
     "output_type": "stream",
     "text": [
      "mean: 733.7387462808426\n",
      "median: 540.0\n"
     ]
    }
   ],
   "source": [
    "df3=df.loc[df.trip_seconds<3600]\n",
    "mean= np.mean(df3['trip_seconds'])\n",
    "median=np.median(df3['trip_seconds'])\n",
    "print('mean:',mean)\n",
    "print('median:',median)"
   ]
  },
  {
   "cell_type": "markdown",
   "metadata": {},
   "source": [
    "#### 4.3l Using the sample code provided here, create a hexagonal binned heat map. Plot `trip_seconds` on the x-axis and `trip_total` on the y-axis. Before plotting, filter your data so that you only include trips of less than an hour, and trips with the total fare between `$3` and `$75`."
   ]
  },
  {
   "cell_type": "code",
   "execution_count": 18,
   "metadata": {},
   "outputs": [],
   "source": [
    "df6=df.loc[df.trip_seconds < 3600].loc[df.trip_total <= 75].loc[df.trip_total >= 3]"
   ]
  },
  {
   "cell_type": "code",
   "execution_count": 19,
   "metadata": {},
   "outputs": [
    {
     "data": {
      "image/png": "[encoded data removed]",
      "text/plain": [
       "<Figure size 432x432 with 3 Axes>"
      ]
     },
     "metadata": {
      "needs_background": "light"
     },
     "output_type": "display_data"
    }
   ],
   "source": [
    "g = sns.jointplot(x='trip_seconds', y='trip_total', data=df6, kind='hex')\n",
    "plt.show()"
   ]
  },
  {
   "cell_type": "markdown",
   "metadata": {},
   "source": [
    "#### 4.3m Filter the data further and create another heat map."
   ]
  },
  {
   "cell_type": "code",
   "execution_count": 20,
   "metadata": {},
   "outputs": [
    {
     "data": {
      "image/png": "[encoded data removed]",
      "text/plain": [
       "<Figure size 432x432 with 3 Axes>"
      ]
     },
     "metadata": {
      "needs_background": "light"
     },
     "output_type": "display_data"
    }
   ],
   "source": [
    "g = sns.jointplot(x='trip_seconds', y='trip_total', data=df.loc[df.trip_seconds < 2000].loc[df.trip_total <= 25].loc[df.trip_total >= 3], kind='hex')\n",
    "plt.show()"
   ]
  },
  {
   "cell_type": "markdown",
   "metadata": {},
   "source": [
    "#### 4.3n Interpret these heat maps. What do we learn about the relationship between `trip_total` and `trip_seconds`?"
   ]
  },
  {
   "cell_type": "markdown",
   "metadata": {},
   "source": [
    "We can see from the heat map that the trip_total positively correlated with trip_seconds."
   ]
  },
  {
   "cell_type": "markdown",
   "metadata": {},
   "source": [
    "#### 4.3o In order to ensure that everybody produces identical graphs, we’re all going to use the same filters for the remainder of the case. The following filters might be different than the ones you chose above, and that’s okay. \n",
    "#### Eliminate all rows in which `trip_total` is outside the range $[3.00, 75.00]$. Also eliminate all rows in which `trip_seconds` is outside the range $[58, 3600]$. How many rows and columns does your DataFrame have now?"
   ]
  },
  {
   "cell_type": "code",
   "execution_count": 21,
   "metadata": {},
   "outputs": [
    {
     "name": "stdout",
     "output_type": "stream",
     "text": [
      "The number of the row: 1914376\n",
      "The number of the column: 30\n"
     ]
    }
   ],
   "source": [
    "df5=df.loc[df.trip_seconds <=3600].loc[df.trip_seconds>=58].loc[df.trip_total <= 75].loc[df.trip_total >= 3]\n",
    "count_row = df5.shape[0] \n",
    "count_col = df5.shape[1] \n",
    "print('The number of the row:',count_row)\n",
    "print('The number of the column:',count_col)"
   ]
  },
  {
   "cell_type": "markdown",
   "metadata": {},
   "source": [
    "#### 4.3p This completes our cleaning of the data. Save your data frame as a pickle file called `YellowCab_clean.p` so you don’t have to run any of the code above every time you want to work on this. Also save your data frame as a CSV file called `YellowCab_clean.csv` so you can import the cleaned data into Tableau."
   ]
  },
  {
   "cell_type": "code",
   "execution_count": 22,
   "metadata": {},
   "outputs": [],
   "source": [
    "df5.to_csv('YellowCab_clean.csv')\n",
    "df5.to_pickle('YellowCab_clean.p')"
   ]
  },
  {
   "cell_type": "markdown",
   "metadata": {},
   "source": [
    "### 5.1 Bar Graphs of Trip Frequency"
   ]
  },
  {
   "cell_type": "markdown",
   "metadata": {},
   "source": [
    "#### 5.1a Subset your data so that you are only working with data from 2015. How many rows and columns does this new DataFrame have? Report this here."
   ]
  },
  {
   "cell_type": "code",
   "execution_count": 23,
   "metadata": {},
   "outputs": [],
   "source": [
    "df6=df5.loc[df5.Year ==2015]"
   ]
  },
  {
   "cell_type": "code",
   "execution_count": 24,
   "metadata": {},
   "outputs": [
    {
     "name": "stdout",
     "output_type": "stream",
     "text": [
      "The number of the row: 472564\n",
      "The number of the column: 30\n"
     ]
    }
   ],
   "source": [
    "count_row = df6.shape[0] \n",
    "count_col = df6.shape[1] \n",
    "print('The number of the row:',count_row)\n",
    "print('The number of the column:',count_col)"
   ]
  },
  {
   "cell_type": "markdown",
   "metadata": {},
   "source": [
    "#### Export this new data to a CSV file to work with in Tableau. "
   ]
  },
  {
   "cell_type": "code",
   "execution_count": 25,
   "metadata": {},
   "outputs": [],
   "source": [
    "df6.to_csv('YellowCab_New.csv')"
   ]
  },
  {
   "cell_type": "markdown",
   "metadata": {},
   "source": [
    "## 6. Predictive Analytics -- Regression"
   ]
  },
  {
   "cell_type": "markdown",
   "metadata": {},
   "source": [
    "#### 6.0a Run a regression. `trip_total` should be the dependent variable, and `trip_seconds`, `trip_miles`, `credit`, `hour`, `month`, and `dayofweek` should be the independent variables. You will need to create the variable `credit`, and make sure to treat it as categorical in your regression."
   ]
  },
  {
   "cell_type": "code",
   "execution_count": 26,
   "metadata": {},
   "outputs": [],
   "source": [
    "from sklearn.linear_model import LinearRegression\n",
    "import statsmodels.api as sm"
   ]
  },
  {
   "cell_type": "code",
   "execution_count": 27,
   "metadata": {},
   "outputs": [
    {
     "data": {
      "text/html": [
       "<div>\n",
       "<style scoped>\n",
       "    .dataframe tbody tr th:only-of-type {\n",
       "        vertical-align: middle;\n",
       "    }\n",
       "\n",
       "    .dataframe tbody tr th {\n",
       "        vertical-align: top;\n",
       "    }\n",
       "\n",
       "    .dataframe thead th {\n",
       "        text-align: right;\n",
       "    }\n",
       "</style>\n",
       "<table border=\"1\" class=\"dataframe\">\n",
       "  <thead>\n",
       "    <tr style=\"text-align: right;\">\n",
       "      <th></th>\n",
       "      <th>trip_seconds</th>\n",
       "      <th>trip_miles</th>\n",
       "      <th>credit</th>\n",
       "      <th>hour</th>\n",
       "      <th>month</th>\n",
       "      <th>day of week</th>\n",
       "    </tr>\n",
       "  </thead>\n",
       "  <tbody>\n",
       "    <tr>\n",
       "      <th>0</th>\n",
       "      <td>300.0</td>\n",
       "      <td>1.2</td>\n",
       "      <td>0</td>\n",
       "      <td>22</td>\n",
       "      <td>10</td>\n",
       "      <td>2</td>\n",
       "    </tr>\n",
       "    <tr>\n",
       "      <th>1</th>\n",
       "      <td>360.0</td>\n",
       "      <td>2.2</td>\n",
       "      <td>1</td>\n",
       "      <td>22</td>\n",
       "      <td>5</td>\n",
       "      <td>5</td>\n",
       "    </tr>\n",
       "    <tr>\n",
       "      <th>2</th>\n",
       "      <td>780.0</td>\n",
       "      <td>1.4</td>\n",
       "      <td>0</td>\n",
       "      <td>10</td>\n",
       "      <td>9</td>\n",
       "      <td>0</td>\n",
       "    </tr>\n",
       "    <tr>\n",
       "      <th>3</th>\n",
       "      <td>420.0</td>\n",
       "      <td>2.2</td>\n",
       "      <td>0</td>\n",
       "      <td>11</td>\n",
       "      <td>10</td>\n",
       "      <td>5</td>\n",
       "    </tr>\n",
       "    <tr>\n",
       "      <th>4</th>\n",
       "      <td>540.0</td>\n",
       "      <td>2.5</td>\n",
       "      <td>0</td>\n",
       "      <td>1</td>\n",
       "      <td>3</td>\n",
       "      <td>6</td>\n",
       "    </tr>\n",
       "  </tbody>\n",
       "</table>\n",
       "</div>"
      ],
      "text/plain": [
       "   trip_seconds  trip_miles  credit  hour  month  day of week\n",
       "0         300.0         1.2       0    22     10            2\n",
       "1         360.0         2.2       1    22      5            5\n",
       "2         780.0         1.4       0    10      9            0\n",
       "3         420.0         2.2       0    11     10            5\n",
       "4         540.0         2.5       0     1      3            6"
      ]
     },
     "execution_count": 27,
     "metadata": {},
     "output_type": "execute_result"
    }
   ],
   "source": [
    "df7 = pd.read_csv('YellowCab_clean.csv')\n",
    "df7['credit'] = 0\n",
    "df7.loc[df7['payment_type'] == 'Credit Card', 'credit'] = 1\n",
    "df7['day of week'] = df7['day of the week'].replace(['Monday', 'Tuesday', 'Wednesday', 'Thursday', 'Friday', 'Saturday','Sunday'], list(range(7)))\n",
    "data = df7[['trip_seconds', 'trip_miles', 'credit', 'hour', 'month', 'day of week']]\n",
    "target = df7['trip_total']\n",
    "data.head()"
   ]
  },
  {
   "cell_type": "code",
   "execution_count": 28,
   "metadata": {},
   "outputs": [
    {
     "name": "stderr",
     "output_type": "stream",
     "text": [
      "/Users/hanxiao/anaconda3/lib/python3.6/site-packages/numpy/core/fromnumeric.py:2389: FutureWarning: Method .ptp is deprecated and will be removed in a future version. Use numpy.ptp instead.\n",
      "  return ptp(axis=axis, out=out, **kwargs)\n"
     ]
    },
    {
     "name": "stdout",
     "output_type": "stream",
     "text": [
      "                            OLS Regression Results                            \n",
      "==============================================================================\n",
      "Dep. Variable:             trip_total   R-squared:                       0.759\n",
      "Model:                            OLS   Adj. R-squared:                  0.759\n",
      "Method:                 Least Squares   F-statistic:                 1.004e+06\n",
      "Date:                Tue, 02 Apr 2019   Prob (F-statistic):               0.00\n",
      "Time:                        08:53:13   Log-Likelihood:            -6.0585e+06\n",
      "No. Observations:             1914376   AIC:                         1.212e+07\n",
      "Df Residuals:                 1914369   BIC:                         1.212e+07\n",
      "Df Model:                           6                                         \n",
      "Covariance Type:            nonrobust                                         \n",
      "================================================================================\n",
      "                   coef    std err          t      P>|t|      [0.025      0.975]\n",
      "--------------------------------------------------------------------------------\n",
      "const            1.3359      0.016     86.120      0.000       1.305       1.366\n",
      "trip_seconds     0.0158   7.27e-06   2178.625      0.000       0.016       0.016\n",
      "trip_miles       0.0686      0.000    208.758      0.000       0.068       0.069\n",
      "credit           3.9945      0.009    454.475      0.000       3.977       4.012\n",
      "hour            -0.0676      0.001   -106.120      0.000      -0.069      -0.066\n",
      "month           -0.0464      0.001    -37.968      0.000      -0.049      -0.044\n",
      "day of week     -0.0006      0.002     -0.296      0.767      -0.005       0.004\n",
      "==============================================================================\n",
      "Omnibus:                   849193.791   Durbin-Watson:                   2.002\n",
      "Prob(Omnibus):                  0.000   Jarque-Bera (JB):         18997061.437\n",
      "Skew:                           1.620   Prob(JB):                         0.00\n",
      "Kurtosis:                      18.089   Cond. No.                     3.63e+03\n",
      "==============================================================================\n",
      "\n",
      "Warnings:\n",
      "[1] Standard Errors assume that the covariance matrix of the errors is correctly specified.\n",
      "[2] The condition number is large, 3.63e+03. This might indicate that there are\n",
      "strong multicollinearity or other numerical problems.\n"
     ]
    }
   ],
   "source": [
    "X2 = sm.add_constant(data)\n",
    "est = sm.OLS(target, X2)\n",
    "est2 = est.fit()\n",
    "print(est2.summary())"
   ]
  },
  {
   "cell_type": "markdown",
   "metadata": {},
   "source": [
    "#### 6.0a Interpret the regression you just performed. Discuss each significant variable and what that significant variable tells you (that is, interpret the coefficient). "
   ]
  },
  {
   "cell_type": "markdown",
   "metadata": {},
   "source": [
    "For this regression, trip_seconds, trip_miles, credit, hour, month are all significant variables, because the P-value of them are all less than 0.01. For trip_seconds, whenever one second is added, the trip_total will increase by 0.0158; For trip_miles, when one mile is added, the trip_total will increase by 0.0686; For credit, when the payment type is credit card, the trip_total will increase by 3.9945. "
   ]
  },
  {
   "cell_type": "markdown",
   "metadata": {},
   "source": [
    "#### 6.0b Run the same regression as in part a, but use `tips` as your dependent variable."
   ]
  },
  {
   "cell_type": "code",
   "execution_count": 30,
   "metadata": {},
   "outputs": [
    {
     "name": "stdout",
     "output_type": "stream",
     "text": [
      "                            OLS Regression Results                            \n",
      "==============================================================================\n",
      "Dep. Variable:                   tips   R-squared:                       0.622\n",
      "Model:                            OLS   Adj. R-squared:                  0.622\n",
      "Method:                 Least Squares   F-statistic:                 5.258e+05\n",
      "Date:                Tue, 02 Apr 2019   Prob (F-statistic):               0.00\n",
      "Time:                        08:58:53   Log-Likelihood:            -3.2400e+06\n",
      "No. Observations:             1914376   AIC:                         6.480e+06\n",
      "Df Residuals:                 1914369   BIC:                         6.480e+06\n",
      "Df Model:                           6                                         \n",
      "Covariance Type:            nonrobust                                         \n",
      "================================================================================\n",
      "                   coef    std err          t      P>|t|      [0.025      0.975]\n",
      "--------------------------------------------------------------------------------\n",
      "const           -0.7064      0.004   -198.519      0.000      -0.713      -0.699\n",
      "trip_seconds     0.0012   1.67e-06    715.748      0.000       0.001       0.001\n",
      "trip_miles       0.0066   7.54e-05     87.387      0.000       0.006       0.007\n",
      "credit           2.9225      0.002   1449.426      0.000       2.919       2.926\n",
      "hour            -0.0029      0.000    -19.829      0.000      -0.003      -0.003\n",
      "month           -0.0036      0.000    -12.904      0.000      -0.004      -0.003\n",
      "day of week     -0.0175      0.000    -35.262      0.000      -0.018      -0.016\n",
      "==============================================================================\n",
      "Omnibus:                  1429408.085   Durbin-Watson:                   2.001\n",
      "Prob(Omnibus):                  0.000   Jarque-Bera (JB):        147649774.054\n",
      "Skew:                           2.869   Prob(JB):                         0.00\n",
      "Kurtosis:                      45.640   Cond. No.                     3.63e+03\n",
      "==============================================================================\n",
      "\n",
      "Warnings:\n",
      "[1] Standard Errors assume that the covariance matrix of the errors is correctly specified.\n",
      "[2] The condition number is large, 3.63e+03. This might indicate that there are\n",
      "strong multicollinearity or other numerical problems.\n"
     ]
    }
   ],
   "source": [
    "target2 = df7['tips']\n",
    "X2 = sm.add_constant(data)\n",
    "est = sm.OLS(target2, X2)\n",
    "est2 = est.fit()\n",
    "print(est2.summary())"
   ]
  },
  {
   "cell_type": "markdown",
   "metadata": {},
   "source": [
    "#### 6.0b Interpret the regression you just performed. Discuss each significant variable and what that significant variable tells you (that is, interpret the coefficient). "
   ]
  },
  {
   "cell_type": "markdown",
   "metadata": {},
   "source": [
    "For this regression, trip_seconds, trip_miles, credit, hour, month, day of week are all significant variables, because the P-value of them are all less than 0.01. For trip_seconds, whenever one second is added, the tips will increase by 0.0012; For trip_miles, when one mile is added, the tips will increase by 0.0066; For credit, when the payment type is credit card, the tips will increase by 2.9225. "
   ]
  },
  {
   "cell_type": "markdown",
   "metadata": {},
   "source": [
    "## 7. Your Recommendation(s)\n",
    "You may perform this either here in Python, or in Tableau. If you use Tableau, write your recommendation here using one or more paragraphs. You may refer to your Tableau output and do not have to copy and paste it into this notebook."
   ]
  },
  {
   "cell_type": "markdown",
   "metadata": {},
   "source": [
    "As we analyzed in 5.2c and the sheet Additional 1 in Tabealu, we can find that the payment method that accounts for the largest proportion of total trips and tips is the credit card, which means that credit card is the most profitable payment type. So in the next annlysis, I filtered on payment type and only keep credit card. In the sheet Additional 2 in Tabealu, it shows a Chicago map, which color shows sum of Trip Total and details are shown for Pickup Community Area. We can see from the map that the community area 8,32 and 76 has the relatively higher trip total. Then in the sheet Additional 3 in Tabealu, I conduct a time analysis of the total trips happened in each community. I find that the maximum trip total for community 8 (Near north side) and community 32 (The loop) occurs between 17:00 and 20:00, the maximun trip total for community 76 (O'Hare international airport)occurs between 18:00 to 22:00. \n",
    " \n",
    " Based on the above analysis, my recommendation is that give a certain support, such as discount or promotion to the  credit card payment and increase the number of taxis in the community 8,32,76 between 17:00 and 22:00.\n"
   ]
  },
  {
   "cell_type": "code",
   "execution_count": null,
   "metadata": {},
   "outputs": [],
   "source": []
  }
 ],
 "metadata": {
  "kernelspec": {
   "display_name": "Python 3",
   "language": "python",
   "name": "python3"
  },
  "language_info": {
   "codemirror_mode": {
    "name": "ipython",
    "version": 3
   },
   "file_extension": ".py",
   "mimetype": "text/x-python",
   "name": "python",
   "nbconvert_exporter": "python",
   "pygments_lexer": "ipython3",
   "version": "3.6.8"
  }
 },
 "nbformat": 4,
 "nbformat_minor": 2
}
